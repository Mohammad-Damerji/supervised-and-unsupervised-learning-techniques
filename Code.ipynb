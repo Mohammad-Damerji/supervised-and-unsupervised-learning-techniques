{
  "cells": [
    {
      "cell_type": "code",
      "execution_count": 1,
      "metadata": {
        "id": "f-5wAHKc3fmd"
      },
      "outputs": [],
      "source": [
        "import numpy as np\n",
        "import pandas as pd\n",
        "import seaborn as sns\n",
        "import matplotlib.pyplot as plt\n",
        "from google.colab import files"
      ]
    },
    {
      "cell_type": "code",
      "execution_count": 2,
      "metadata": {
        "id": "DzSz6BzJM30w"
      },
      "outputs": [],
      "source": [
        "from sklearn.model_selection import GridSearchCV\n",
        "from sklearn import preprocessing\n",
        "from sklearn.model_selection import train_test_split\n",
        "from sklearn.naive_bayes import GaussianNB\n",
        "from sklearn.metrics import accuracy_score\n",
        "from sklearn.metrics import confusion_matrix\n",
        "from sklearn.svm import SVC  \n",
        "from sklearn.model_selection import RandomizedSearchCV\n",
        "from sklearn.ensemble import RandomForestClassifier\n",
        "from sklearn.cluster import KMeans"
      ]
    },
    {
      "cell_type": "code",
      "execution_count": 3,
      "metadata": {
        "colab": {
          "base_uri": "https://localhost:8080/",
          "height": 73,
          "resources": {
            "http://localhost:8080/nbextensions/google.colab/files.js": {
              "data": "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",
              "headers": [
                [
                  "content-type",
                  "application/javascript"
                ]
              ],
              "ok": true,
              "status": 200,
              "status_text": ""
            }
          }
        },
        "id": "1o5Kjjgpx47K",
        "outputId": "14a484d0-b674-42a4-82ad-18f5f984aa83"
      },
      "outputs": [
        {
          "output_type": "display_data",
          "data": {
            "text/html": [
              "\n",
              "     <input type=\"file\" id=\"files-430325bf-0019-4262-b593-8ec90ccb77e0\" name=\"files[]\" multiple disabled\n",
              "        style=\"border:none\" />\n",
              "     <output id=\"result-430325bf-0019-4262-b593-8ec90ccb77e0\">\n",
              "      Upload widget is only available when the cell has been executed in the\n",
              "      current browser session. Please rerun this cell to enable.\n",
              "      </output>\n",
              "      <script src=\"/nbextensions/google.colab/files.js\"></script> "
            ],
            "text/plain": [
              "<IPython.core.display.HTML object>"
            ]
          },
          "metadata": {}
        },
        {
          "output_type": "stream",
          "name": "stdout",
          "text": [
            "Saving breast-cancer.data to breast-cancer.data\n"
          ]
        }
      ],
      "source": [
        "uploaded = files.upload()"
      ]
    },
    {
      "cell_type": "code",
      "execution_count": 4,
      "metadata": {
        "colab": {
          "base_uri": "https://localhost:8080/",
          "height": 206
        },
        "id": "b3JsJZd_yUTY",
        "outputId": "d73f52ba-edd6-4e1b-c3ae-ada9be56dd50"
      },
      "outputs": [
        {
          "output_type": "execute_result",
          "data": {
            "text/html": [
              "<div>\n",
              "<style scoped>\n",
              "    .dataframe tbody tr th:only-of-type {\n",
              "        vertical-align: middle;\n",
              "    }\n",
              "\n",
              "    .dataframe tbody tr th {\n",
              "        vertical-align: top;\n",
              "    }\n",
              "\n",
              "    .dataframe thead th {\n",
              "        text-align: right;\n",
              "    }\n",
              "</style>\n",
              "<table border=\"1\" class=\"dataframe\">\n",
              "  <thead>\n",
              "    <tr style=\"text-align: right;\">\n",
              "      <th></th>\n",
              "      <th>Class</th>\n",
              "      <th>age</th>\n",
              "      <th>menopause</th>\n",
              "      <th>tumor-size</th>\n",
              "      <th>inv-nodes</th>\n",
              "      <th>node-caps</th>\n",
              "      <th>deg-malig</th>\n",
              "      <th>breast</th>\n",
              "      <th>breast-quad</th>\n",
              "      <th>irradiat</th>\n",
              "    </tr>\n",
              "  </thead>\n",
              "  <tbody>\n",
              "    <tr>\n",
              "      <th>0</th>\n",
              "      <td>no-recurrence-events</td>\n",
              "      <td>30-39</td>\n",
              "      <td>premeno</td>\n",
              "      <td>30-34</td>\n",
              "      <td>0-2</td>\n",
              "      <td>no</td>\n",
              "      <td>3</td>\n",
              "      <td>left</td>\n",
              "      <td>left_low</td>\n",
              "      <td>no</td>\n",
              "    </tr>\n",
              "    <tr>\n",
              "      <th>1</th>\n",
              "      <td>no-recurrence-events</td>\n",
              "      <td>40-49</td>\n",
              "      <td>premeno</td>\n",
              "      <td>20-24</td>\n",
              "      <td>0-2</td>\n",
              "      <td>no</td>\n",
              "      <td>2</td>\n",
              "      <td>right</td>\n",
              "      <td>right_up</td>\n",
              "      <td>no</td>\n",
              "    </tr>\n",
              "    <tr>\n",
              "      <th>2</th>\n",
              "      <td>no-recurrence-events</td>\n",
              "      <td>40-49</td>\n",
              "      <td>premeno</td>\n",
              "      <td>20-24</td>\n",
              "      <td>0-2</td>\n",
              "      <td>no</td>\n",
              "      <td>2</td>\n",
              "      <td>left</td>\n",
              "      <td>left_low</td>\n",
              "      <td>no</td>\n",
              "    </tr>\n",
              "    <tr>\n",
              "      <th>3</th>\n",
              "      <td>no-recurrence-events</td>\n",
              "      <td>60-69</td>\n",
              "      <td>ge40</td>\n",
              "      <td>15-19</td>\n",
              "      <td>0-2</td>\n",
              "      <td>no</td>\n",
              "      <td>2</td>\n",
              "      <td>right</td>\n",
              "      <td>left_up</td>\n",
              "      <td>no</td>\n",
              "    </tr>\n",
              "    <tr>\n",
              "      <th>4</th>\n",
              "      <td>no-recurrence-events</td>\n",
              "      <td>40-49</td>\n",
              "      <td>premeno</td>\n",
              "      <td>0-4</td>\n",
              "      <td>0-2</td>\n",
              "      <td>no</td>\n",
              "      <td>2</td>\n",
              "      <td>right</td>\n",
              "      <td>right_low</td>\n",
              "      <td>no</td>\n",
              "    </tr>\n",
              "  </tbody>\n",
              "</table>\n",
              "</div>"
            ],
            "text/plain": [
              "                  Class    age menopause  ... breast breast-quad irradiat\n",
              "0  no-recurrence-events  30-39   premeno  ...   left    left_low       no\n",
              "1  no-recurrence-events  40-49   premeno  ...  right    right_up       no\n",
              "2  no-recurrence-events  40-49   premeno  ...   left    left_low       no\n",
              "3  no-recurrence-events  60-69      ge40  ...  right     left_up       no\n",
              "4  no-recurrence-events  40-49   premeno  ...  right   right_low       no\n",
              "\n",
              "[5 rows x 10 columns]"
            ]
          },
          "metadata": {},
          "execution_count": 4
        }
      ],
      "source": [
        "df = pd.read_csv(\"breast-cancer.data\",sep=',',header=None,names=[\"Class\",\"age\",\"menopause\",\"tumor-size\",\"inv-nodes\",\"node-caps\",\"deg-malig\",\"breast\",\"breast-quad\",\"irradiat\"])\n",
        "df.head()"
      ]
    },
    {
      "cell_type": "code",
      "execution_count": 5,
      "metadata": {
        "colab": {
          "base_uri": "https://localhost:8080/"
        },
        "id": "PeL9iTuy-Hdl",
        "outputId": "81e336ee-2ca8-4eb3-bd28-f66090444532"
      },
      "outputs": [
        {
          "output_type": "stream",
          "name": "stdout",
          "text": [
            "The data contains 286 instances.\n",
            "The number of no-recurrence-events instances is 201.\n",
            "The number of recurrence-events instances is 85.\n"
          ]
        }
      ],
      "source": [
        "print(f\"The data contains {df.shape[0]} instances.\")\n",
        "print(f\"The number of no-recurrence-events instances is {len([1 for val in df.loc[:,'Class'] if val == 'no-recurrence-events'])}.\")\n",
        "print(f\"The number of recurrence-events instances is {len([1 for val in df.loc[:,'Class'] if val == 'recurrence-events'])}.\")"
      ]
    },
    {
      "cell_type": "code",
      "execution_count": 6,
      "metadata": {
        "colab": {
          "base_uri": "https://localhost:8080/",
          "height": 487
        },
        "id": "U0xi3n6iBgWp",
        "outputId": "a6834fb5-7e3b-4640-e658-b032391555df"
      },
      "outputs": [
        {
          "output_type": "display_data",
          "data": {
            "image/png": "[encoded data removed]",
            "text/plain": [
              "<Figure size 720x576 with 1 Axes>"
            ]
          },
          "metadata": {}
        }
      ],
      "source": [
        "labels = 'no-recurrence-events', 'recurrence-events'\n",
        "sizes = [len([1 for val in df.loc[:,'Class'] if val == 'no-recurrence-events']), len([1 for val in df.loc[:,'Class'] if val == 'recurrence-events'])]\n",
        "explode = (0, 0.1)\n",
        "fig1, ax1 = plt.subplots(figsize=(10, 8))\n",
        "ax1.pie(sizes, explode=explode, labels=labels, autopct='%1.1f%%',shadow=True, startangle=90)\n",
        "ax1.axis('equal')\n",
        "plt.title(\"The Distribution of classes\", size = 20)\n",
        "plt.show()"
      ]
    },
    {
      "cell_type": "markdown",
      "metadata": {
        "id": "riqc4ze4eK05"
      },
      "source": [
        "## This function returns the indexes' list of all rows which have missing value"
      ]
    },
    {
      "cell_type": "code",
      "execution_count": 7,
      "metadata": {
        "id": "s1BGrqirFF1A"
      },
      "outputs": [],
      "source": [
        "def deleteRows(data,str):\n",
        "  lst = []\n",
        "  attributeName = []\n",
        "  for column in data:\n",
        "    for counter,val in enumerate(data.loc[:,column]):\n",
        "      if str == val:\n",
        "        if column not in attributeName:\n",
        "          attributeName.append(column)\n",
        "        lst.append(counter)\n",
        "  df.drop(lst,inplace=True)\n",
        "  print(f\"There are missing values denoted by (?) in these attributs {attributeName}\")"
      ]
    },
    {
      "cell_type": "code",
      "execution_count": 8,
      "metadata": {
        "colab": {
          "base_uri": "https://localhost:8080/"
        },
        "id": "L7UbtVPsFS92",
        "outputId": "821d4ead-39f7-4519-a9db-b16aa0576b7a"
      },
      "outputs": [
        {
          "output_type": "stream",
          "name": "stdout",
          "text": [
            "There are missing values denoted by (?) in these attributs ['node-caps', 'breast-quad']\n"
          ]
        }
      ],
      "source": [
        "deleteRows(df,'?')"
      ]
    },
    {
      "cell_type": "code",
      "execution_count": 9,
      "metadata": {
        "colab": {
          "base_uri": "https://localhost:8080/"
        },
        "id": "z7NiCNuX8MQI",
        "outputId": "8df19f6a-90fc-422e-8d4c-cec3fe22241c"
      },
      "outputs": [
        {
          "output_type": "stream",
          "name": "stdout",
          "text": [
            "The data contains 277 instances after the removing process.\n",
            "The number of no-recurrence-events instances is 196.\n",
            "The number of recurrence-events instances is 81.\n"
          ]
        }
      ],
      "source": [
        "print(f\"The data contains {df.shape[0]} instances after the removing process.\")\n",
        "print(f\"The number of no-recurrence-events instances is {len([1 for val in df.loc[:,'Class'] if val == 'no-recurrence-events'])}.\")\n",
        "print(f\"The number of recurrence-events instances is {len([1 for val in df.loc[:,'Class'] if val == 'recurrence-events'])}.\")"
      ]
    },
    {
      "cell_type": "code",
      "execution_count": 10,
      "metadata": {
        "colab": {
          "base_uri": "https://localhost:8080/",
          "height": 487
        },
        "id": "3StZQZfKFXuK",
        "outputId": "83e924e9-75a1-43f0-9f73-44f9a54ac8bf"
      },
      "outputs": [
        {
          "output_type": "display_data",
          "data": {
            "image/png": "[encoded data removed]",
            "text/plain": [
              "<Figure size 720x576 with 1 Axes>"
            ]
          },
          "metadata": {}
        }
      ],
      "source": [
        "labels = 'no-recurrence-events', 'recurrence-events'\n",
        "sizes = [len([1 for val in df.loc[:,'Class'] if val == 'no-recurrence-events']), len([1 for val in df.loc[:,'Class'] if val == 'recurrence-events'])]\n",
        "explode = (0, 0.1)\n",
        "fig1, ax1 = plt.subplots(figsize=(10, 8))\n",
        "ax1.pie(sizes, explode=explode, labels=labels, autopct='%1.1f%%',shadow=True, startangle=90)\n",
        "ax1.axis('equal')\n",
        "plt.title(\"The Distribution of classes after the removing process\", size = 20)\n",
        "plt.show()"
      ]
    },
    {
      "cell_type": "markdown",
      "metadata": {
        "id": "ExDp-EcWQBkl"
      },
      "source": [
        "## This attribute should be deleted because it does not matter where the cancer is located on the right or left side"
      ]
    },
    {
      "cell_type": "code",
      "execution_count": 11,
      "metadata": {
        "colab": {
          "base_uri": "https://localhost:8080/",
          "height": 458
        },
        "id": "Mdbzd9EdKu5_",
        "outputId": "77ac4fee-48e7-4bb9-87ef-e991b6b3d32b"
      },
      "outputs": [
        {
          "output_type": "display_data",
          "data": {
            "image/png": "[encoded data removed]",
            "text/plain": [
              "<Figure size 1080x504 with 1 Axes>"
            ]
          },
          "metadata": {
            "needs_background": "light"
          }
        }
      ],
      "source": [
        "pd.crosstab(df['breast'],df['Class']).plot(kind=\"bar\",figsize=(15,7))\n",
        "plt.title('breast')\n",
        "plt.xticks(rotation=0)\n",
        "plt.legend([\"no-recurrence-events\", \"recurrence-events\"])\n",
        "plt.ylabel('Count')\n",
        "plt.show()"
      ]
    },
    {
      "cell_type": "code",
      "execution_count": 12,
      "metadata": {
        "colab": {
          "base_uri": "https://localhost:8080/",
          "height": 459
        },
        "id": "3FNyT1N5DNPH",
        "outputId": "95df0159-d093-4023-9883-1d2df2dac41a"
      },
      "outputs": [
        {
          "output_type": "display_data",
          "data": {
            "image/png": "[encoded data removed]",
            "text/plain": [
              "<Figure size 1080x504 with 1 Axes>"
            ]
          },
          "metadata": {
            "needs_background": "light"
          }
        }
      ],
      "source": [
        "pd.crosstab(df['breast-quad'],df['Class']).plot(kind=\"bar\",figsize=(15,7))\n",
        "plt.title('breast-quad')\n",
        "plt.xticks(rotation=0)\n",
        "plt.legend([\"no-recurrence-events\", \"recurrence-events\"])\n",
        "plt.ylabel('Count')\n",
        "plt.show()"
      ]
    },
    {
      "cell_type": "code",
      "execution_count": 13,
      "metadata": {
        "colab": {
          "base_uri": "https://localhost:8080/",
          "height": 458
        },
        "id": "hj33X-nNByZt",
        "outputId": "019f3d59-ec14-4c21-9067-f23f985a1ad0"
      },
      "outputs": [
        {
          "output_type": "display_data",
          "data": {
            "image/png": "[encoded data removed]",
            "text/plain": [
              "<Figure size 1080x504 with 1 Axes>"
            ]
          },
          "metadata": {
            "needs_background": "light"
          }
        }
      ],
      "source": [
        "pd.crosstab(df['tumor-size'],df['Class']).plot(kind=\"bar\",figsize=(15,7))\n",
        "plt.title('tumor-size')\n",
        "plt.xticks(rotation=0)\n",
        "plt.legend([\"no-recurrence-events\", \"recurrence-events\"])\n",
        "plt.ylabel('Count')\n",
        "plt.show()"
      ]
    },
    {
      "cell_type": "markdown",
      "metadata": {
        "id": "XZ9Nl7LZjJrR"
      },
      "source": [
        "## Replacing the categorical data by numeric data by using the label encoder"
      ]
    },
    {
      "cell_type": "code",
      "execution_count": 14,
      "metadata": {
        "id": "2oe95WNn6Vuj"
      },
      "outputs": [],
      "source": [
        "le = preprocessing.LabelEncoder()"
      ]
    },
    {
      "cell_type": "code",
      "execution_count": 15,
      "metadata": {
        "id": "yhk04VMk6hPR"
      },
      "outputs": [],
      "source": [
        "df['age'] = le.fit_transform(df['age'])\n",
        "df['menopause'] = le.fit_transform(df['menopause'])\n",
        "df['tumor-size'] = le.fit_transform(df['tumor-size'])\n",
        "df['inv-nodes'] = le.fit_transform(df['inv-nodes'])\n",
        "df['node-caps'] = le.fit_transform(df['node-caps'])\n",
        "df['deg-malig'] = le.fit_transform(df['deg-malig'])\n",
        "df['breast-quad'] = le.fit_transform(df['breast-quad'])\n",
        "df['irradiat'] = le.fit_transform(df['irradiat'])\n",
        "df['Class'] = le.fit_transform(df['Class'])\n",
        "df['breast'] = le.fit_transform(df['breast'])\n"
      ]
    },
    {
      "cell_type": "code",
      "execution_count": 16,
      "metadata": {
        "colab": {
          "base_uri": "https://localhost:8080/",
          "height": 206
        },
        "id": "9mi6VXy61ihq",
        "outputId": "75fcf119-6acd-4604-8455-01f2918665b7"
      },
      "outputs": [
        {
          "output_type": "execute_result",
          "data": {
            "text/html": [
              "<div>\n",
              "<style scoped>\n",
              "    .dataframe tbody tr th:only-of-type {\n",
              "        vertical-align: middle;\n",
              "    }\n",
              "\n",
              "    .dataframe tbody tr th {\n",
              "        vertical-align: top;\n",
              "    }\n",
              "\n",
              "    .dataframe thead th {\n",
              "        text-align: right;\n",
              "    }\n",
              "</style>\n",
              "<table border=\"1\" class=\"dataframe\">\n",
              "  <thead>\n",
              "    <tr style=\"text-align: right;\">\n",
              "      <th></th>\n",
              "      <th>Class</th>\n",
              "      <th>age</th>\n",
              "      <th>menopause</th>\n",
              "      <th>tumor-size</th>\n",
              "      <th>inv-nodes</th>\n",
              "      <th>node-caps</th>\n",
              "      <th>deg-malig</th>\n",
              "      <th>breast</th>\n",
              "      <th>breast-quad</th>\n",
              "      <th>irradiat</th>\n",
              "    </tr>\n",
              "  </thead>\n",
              "  <tbody>\n",
              "    <tr>\n",
              "      <th>0</th>\n",
              "      <td>0</td>\n",
              "      <td>1</td>\n",
              "      <td>2</td>\n",
              "      <td>5</td>\n",
              "      <td>0</td>\n",
              "      <td>0</td>\n",
              "      <td>2</td>\n",
              "      <td>0</td>\n",
              "      <td>1</td>\n",
              "      <td>0</td>\n",
              "    </tr>\n",
              "    <tr>\n",
              "      <th>1</th>\n",
              "      <td>0</td>\n",
              "      <td>2</td>\n",
              "      <td>2</td>\n",
              "      <td>3</td>\n",
              "      <td>0</td>\n",
              "      <td>0</td>\n",
              "      <td>1</td>\n",
              "      <td>1</td>\n",
              "      <td>4</td>\n",
              "      <td>0</td>\n",
              "    </tr>\n",
              "    <tr>\n",
              "      <th>2</th>\n",
              "      <td>0</td>\n",
              "      <td>2</td>\n",
              "      <td>2</td>\n",
              "      <td>3</td>\n",
              "      <td>0</td>\n",
              "      <td>0</td>\n",
              "      <td>1</td>\n",
              "      <td>0</td>\n",
              "      <td>1</td>\n",
              "      <td>0</td>\n",
              "    </tr>\n",
              "    <tr>\n",
              "      <th>3</th>\n",
              "      <td>0</td>\n",
              "      <td>4</td>\n",
              "      <td>0</td>\n",
              "      <td>2</td>\n",
              "      <td>0</td>\n",
              "      <td>0</td>\n",
              "      <td>1</td>\n",
              "      <td>1</td>\n",
              "      <td>2</td>\n",
              "      <td>0</td>\n",
              "    </tr>\n",
              "    <tr>\n",
              "      <th>4</th>\n",
              "      <td>0</td>\n",
              "      <td>2</td>\n",
              "      <td>2</td>\n",
              "      <td>0</td>\n",
              "      <td>0</td>\n",
              "      <td>0</td>\n",
              "      <td>1</td>\n",
              "      <td>1</td>\n",
              "      <td>3</td>\n",
              "      <td>0</td>\n",
              "    </tr>\n",
              "  </tbody>\n",
              "</table>\n",
              "</div>"
            ],
            "text/plain": [
              "   Class  age  menopause  tumor-size  ...  deg-malig  breast  breast-quad  irradiat\n",
              "0      0    1          2           5  ...          2       0            1         0\n",
              "1      0    2          2           3  ...          1       1            4         0\n",
              "2      0    2          2           3  ...          1       0            1         0\n",
              "3      0    4          0           2  ...          1       1            2         0\n",
              "4      0    2          2           0  ...          1       1            3         0\n",
              "\n",
              "[5 rows x 10 columns]"
            ]
          },
          "metadata": {},
          "execution_count": 16
        }
      ],
      "source": [
        "df.head()"
      ]
    },
    {
      "cell_type": "markdown",
      "metadata": {
        "id": "Xq3qdPQbkLeT"
      },
      "source": [
        "## Normalize the data by using the Min Max normalization which scale all the data to be between [0,1]"
      ]
    },
    {
      "cell_type": "code",
      "execution_count": 17,
      "metadata": {
        "colab": {
          "base_uri": "https://localhost:8080/",
          "height": 206
        },
        "id": "LQ8684DKMmD9",
        "outputId": "b03afae6-2bb5-4e47-e952-0e36df1c44bc"
      },
      "outputs": [
        {
          "output_type": "execute_result",
          "data": {
            "text/html": [
              "<div>\n",
              "<style scoped>\n",
              "    .dataframe tbody tr th:only-of-type {\n",
              "        vertical-align: middle;\n",
              "    }\n",
              "\n",
              "    .dataframe tbody tr th {\n",
              "        vertical-align: top;\n",
              "    }\n",
              "\n",
              "    .dataframe thead th {\n",
              "        text-align: right;\n",
              "    }\n",
              "</style>\n",
              "<table border=\"1\" class=\"dataframe\">\n",
              "  <thead>\n",
              "    <tr style=\"text-align: right;\">\n",
              "      <th></th>\n",
              "      <th>Class</th>\n",
              "      <th>age</th>\n",
              "      <th>menopause</th>\n",
              "      <th>tumor-size</th>\n",
              "      <th>inv-nodes</th>\n",
              "      <th>node-caps</th>\n",
              "      <th>deg-malig</th>\n",
              "      <th>breast</th>\n",
              "      <th>breast-quad</th>\n",
              "      <th>irradiat</th>\n",
              "    </tr>\n",
              "  </thead>\n",
              "  <tbody>\n",
              "    <tr>\n",
              "      <th>0</th>\n",
              "      <td>0.0</td>\n",
              "      <td>0.2</td>\n",
              "      <td>1.0</td>\n",
              "      <td>0.5</td>\n",
              "      <td>0.0</td>\n",
              "      <td>0.0</td>\n",
              "      <td>1.0</td>\n",
              "      <td>0.0</td>\n",
              "      <td>0.25</td>\n",
              "      <td>0.0</td>\n",
              "    </tr>\n",
              "    <tr>\n",
              "      <th>1</th>\n",
              "      <td>0.0</td>\n",
              "      <td>0.4</td>\n",
              "      <td>1.0</td>\n",
              "      <td>0.3</td>\n",
              "      <td>0.0</td>\n",
              "      <td>0.0</td>\n",
              "      <td>0.5</td>\n",
              "      <td>1.0</td>\n",
              "      <td>1.00</td>\n",
              "      <td>0.0</td>\n",
              "    </tr>\n",
              "    <tr>\n",
              "      <th>2</th>\n",
              "      <td>0.0</td>\n",
              "      <td>0.4</td>\n",
              "      <td>1.0</td>\n",
              "      <td>0.3</td>\n",
              "      <td>0.0</td>\n",
              "      <td>0.0</td>\n",
              "      <td>0.5</td>\n",
              "      <td>0.0</td>\n",
              "      <td>0.25</td>\n",
              "      <td>0.0</td>\n",
              "    </tr>\n",
              "    <tr>\n",
              "      <th>3</th>\n",
              "      <td>0.0</td>\n",
              "      <td>0.8</td>\n",
              "      <td>0.0</td>\n",
              "      <td>0.2</td>\n",
              "      <td>0.0</td>\n",
              "      <td>0.0</td>\n",
              "      <td>0.5</td>\n",
              "      <td>1.0</td>\n",
              "      <td>0.50</td>\n",
              "      <td>0.0</td>\n",
              "    </tr>\n",
              "    <tr>\n",
              "      <th>4</th>\n",
              "      <td>0.0</td>\n",
              "      <td>0.4</td>\n",
              "      <td>1.0</td>\n",
              "      <td>0.0</td>\n",
              "      <td>0.0</td>\n",
              "      <td>0.0</td>\n",
              "      <td>0.5</td>\n",
              "      <td>1.0</td>\n",
              "      <td>0.75</td>\n",
              "      <td>0.0</td>\n",
              "    </tr>\n",
              "  </tbody>\n",
              "</table>\n",
              "</div>"
            ],
            "text/plain": [
              "   Class  age  menopause  tumor-size  ...  deg-malig  breast  breast-quad  irradiat\n",
              "0    0.0  0.2        1.0         0.5  ...        1.0     0.0         0.25       0.0\n",
              "1    0.0  0.4        1.0         0.3  ...        0.5     1.0         1.00       0.0\n",
              "2    0.0  0.4        1.0         0.3  ...        0.5     0.0         0.25       0.0\n",
              "3    0.0  0.8        0.0         0.2  ...        0.5     1.0         0.50       0.0\n",
              "4    0.0  0.4        1.0         0.0  ...        0.5     1.0         0.75       0.0\n",
              "\n",
              "[5 rows x 10 columns]"
            ]
          },
          "metadata": {},
          "execution_count": 17
        }
      ],
      "source": [
        "minVec = df.min().copy()\n",
        "maxVec = df.max().copy()\n",
        "df = (df - minVec)/(maxVec-minVec)\n",
        "df.head()"
      ]
    },
    {
      "cell_type": "code",
      "execution_count": 18,
      "metadata": {
        "colab": {
          "base_uri": "https://localhost:8080/",
          "height": 537
        },
        "id": "aEI2R9PWDsnv",
        "outputId": "42ddc95d-3407-416b-bb81-2fd13d6426bf"
      },
      "outputs": [
        {
          "output_type": "display_data",
          "data": {
            "image/png": "[encoded data removed]",
            "text/plain": [
              "<Figure size 720x576 with 2 Axes>"
            ]
          },
          "metadata": {
            "needs_background": "light"
          }
        }
      ],
      "source": [
        "plt.figure(figsize=(10,8))\n",
        "sns.heatmap(df.corr(),linewidths=.1,cmap=\"YlGnBu\", annot=True)\n",
        "plt.yticks(rotation=0);"
      ]
    },
    {
      "cell_type": "code",
      "execution_count": 19,
      "metadata": {
        "colab": {
          "base_uri": "https://localhost:8080/",
          "height": 706
        },
        "id": "gNcJhDOA-E-J",
        "outputId": "31eb91a4-b52e-4822-d297-140b7f33319a"
      },
      "outputs": [
        {
          "output_type": "execute_result",
          "data": {
            "text/plain": [
              "[Text(0, 0, 'age'),\n",
              " Text(0, 0, 'menopause'),\n",
              " Text(0, 0, 'tumor-size'),\n",
              " Text(0, 0, 'inv-nodes'),\n",
              " Text(0, 0, 'node-caps'),\n",
              " Text(0, 0, 'deg-malig'),\n",
              " Text(0, 0, 'breast'),\n",
              " Text(0, 0, 'breast-quad'),\n",
              " Text(0, 0, 'irradiat')]"
            ]
          },
          "metadata": {},
          "execution_count": 19
        },
        {
          "output_type": "display_data",
          "data": {
            "image/png": "[encoded data removed]",
            "text/plain": [
              "<Figure size 720x576 with 1 Axes>"
            ]
          },
          "metadata": {
            "needs_background": "light"
          }
        }
      ],
      "source": [
        "# The violin plot \n",
        "df_div = pd.melt(df, 'Class', var_name=\"Characteristics\")\n",
        "fig, ax = plt.subplots(figsize=(10,8))\n",
        "p = sns.violinplot(ax = ax, x=\"Characteristics\", y=\"value\", hue='Class', split = True, data=df_div,inner = 'quartile')\n",
        "df_no_class = df.drop([\"Class\"],axis = 1)\n",
        "p.set_xticklabels(rotation = 90, labels = list(df_no_class.columns))"
      ]
    },
    {
      "cell_type": "markdown",
      "metadata": {
        "id": "v3Keq0Bwk_z1"
      },
      "source": [
        "## Split the data to train and test data"
      ]
    },
    {
      "cell_type": "code",
      "execution_count": 20,
      "metadata": {
        "id": "IknJ3V9I4sLQ"
      },
      "outputs": [],
      "source": [
        "df.drop([\"breast\"],axis = 1,inplace=True)\n",
        "X = df.drop(['Class'], axis=1)\n",
        "y = df['Class']"
      ]
    },
    {
      "cell_type": "code",
      "execution_count": 21,
      "metadata": {
        "colab": {
          "base_uri": "https://localhost:8080/"
        },
        "id": "Ho1J6By3J4oY",
        "outputId": "39fb7301-a60f-469c-8f5c-541c8c20395a"
      },
      "outputs": [
        {
          "output_type": "stream",
          "name": "stdout",
          "text": [
            "Train set Shape :  (207, 8)\n",
            "Test set Shape :  (70, 8)\n"
          ]
        }
      ],
      "source": [
        "X_train, X_test, y_train, y_test = train_test_split(X, y, test_size=0.25, random_state=42,shuffle=True)\n",
        "print('Train set Shape : ',X_train.shape)\n",
        "print('Test set Shape : ',X_test.shape)"
      ]
    },
    {
      "cell_type": "markdown",
      "metadata": {
        "id": "Pi8iZiIrEJrp"
      },
      "source": [
        "##Gaussian Naive Bayes"
      ]
    },
    {
      "cell_type": "code",
      "execution_count": null,
      "metadata": {
        "id": "wRsEyR5oK7jM"
      },
      "outputs": [],
      "source": [
        "classifier_GNB = GaussianNB()\n",
        "classifier_GNB = classifier_GNB.fit(X_train, y_train)\n",
        "y_pred_GNB=classifier_GNB.predict(X_test)"
      ]
    },
    {
      "cell_type": "code",
      "execution_count": null,
      "metadata": {
        "colab": {
          "base_uri": "https://localhost:8080/"
        },
        "id": "xt9fi282QY8D",
        "outputId": "14d57da9-1257-4b3a-811f-df07289008aa"
      },
      "outputs": [
        {
          "output_type": "stream",
          "name": "stdout",
          "text": [
            "method: naive_bayes; metric: accuracy_score; 0.6714285714285714\n"
          ]
        }
      ],
      "source": [
        "print(f\"method: naive_bayes; metric: accuracy_score; {accuracy_score(y_test, y_pred_GNB)}\")"
      ]
    },
    {
      "cell_type": "code",
      "execution_count": null,
      "metadata": {
        "colab": {
          "base_uri": "https://localhost:8080/",
          "height": 312
        },
        "id": "7RKOiXzAM2tM",
        "outputId": "6498b606-0df2-43f5-a7d1-b1ce11ccc25e"
      },
      "outputs": [
        {
          "output_type": "execute_result",
          "data": {
            "text/plain": [
              "Text(0.5, 15.0, 'Predicted label')"
            ]
          },
          "metadata": {},
          "execution_count": 24
        },
        {
          "output_type": "display_data",
          "data": {
            "image/png": "[encoded data removed]",
            "text/plain": [
              "<Figure size 432x288 with 1 Axes>"
            ]
          },
          "metadata": {
            "needs_background": "light"
          }
        }
      ],
      "source": [
        "cfm = confusion_matrix(y_test, y_pred_GNB)\n",
        "sns.heatmap(cfm, annot = True,  linewidths=.5, cbar =None)\n",
        "plt.title('GaussianNB Classifier')\n",
        "plt.ylabel('True label')\n",
        "plt.xlabel('Predicted label')"
      ]
    },
    {
      "cell_type": "markdown",
      "metadata": {
        "id": "p11qS3qHEdjr"
      },
      "source": [
        "##Support vector machines"
      ]
    },
    {
      "cell_type": "code",
      "execution_count": null,
      "metadata": {
        "id": "b90o1VldNlQL"
      },
      "outputs": [],
      "source": [
        "classifier_svm = SVC(C=1.5, kernel=\"linear\")\n",
        "classifier_svm = classifier_svm.fit(X_train, y_train)\n",
        "y_pred_svm=classifier_svm.predict(X_test)"
      ]
    },
    {
      "cell_type": "code",
      "execution_count": null,
      "metadata": {
        "colab": {
          "base_uri": "https://localhost:8080/"
        },
        "id": "h7XfIRPwZiT_",
        "outputId": "4d92d785-68e7-4299-f460-579b84d01bd6"
      },
      "outputs": [
        {
          "output_type": "stream",
          "name": "stdout",
          "text": [
            "method: SVM; metric: accuracy_score; 0.6714285714285714\n"
          ]
        }
      ],
      "source": [
        "print(f\"method: SVM; metric: accuracy_score; {accuracy_score(y_test, y_pred_svm)}\")"
      ]
    },
    {
      "cell_type": "code",
      "execution_count": null,
      "metadata": {
        "colab": {
          "base_uri": "https://localhost:8080/"
        },
        "id": "x-OQXiWtZqr-",
        "outputId": "29aa6d0a-ea19-415b-d765-51d3c111fe02"
      },
      "outputs": [
        {
          "output_type": "execute_result",
          "data": {
            "text/plain": [
              "Text(0.5, 15.0, 'Predicted label')"
            ]
          },
          "metadata": {},
          "execution_count": 33
        },
        {
          "output_type": "display_data",
          "data": {
            "image/png": "[encoded data removed]",
            "text/plain": [
              "<Figure size 432x288 with 1 Axes>"
            ]
          },
          "metadata": {
            "needs_background": "light"
          }
        }
      ],
      "source": [
        "cfm = confusion_matrix(y_test, y_pred_svm)\n",
        "sns.heatmap(cfm, annot = True,  linewidths=.5, cbar =None)\n",
        "plt.title('SVM Classifier')\n",
        "plt.ylabel('True label')\n",
        "plt.xlabel('Predicted label')"
      ]
    },
    {
      "cell_type": "markdown",
      "metadata": {
        "id": "-26ceYI_NWlc"
      },
      "source": [
        "##Tuning the Support vector machines Model"
      ]
    },
    {
      "cell_type": "code",
      "execution_count": null,
      "metadata": {
        "id": "zoGHj4lYNhc5"
      },
      "outputs": [],
      "source": [
        "param_grid = {'C': [0.1,1, 10, 100], 'gamma': [1,0.1,0.01,0.001],'kernel': ['rbf', 'poly', 'sigmoid']}"
      ]
    },
    {
      "cell_type": "code",
      "execution_count": null,
      "metadata": {
        "colab": {
          "base_uri": "https://localhost:8080/"
        },
        "id": "SqtfFuztOpAN",
        "outputId": "e471bdc4-a8f0-4450-98a6-f09e1175b0a0"
      },
      "outputs": [
        {
          "output_type": "stream",
          "name": "stdout",
          "text": [
            "Fitting 5 folds for each of 48 candidates, totalling 240 fits\n",
            "[CV] END .........................C=0.1, gamma=1, kernel=rbf; total time=   0.0s\n",
            "[CV] END .........................C=0.1, gamma=1, kernel=rbf; total time=   0.0s\n",
            "[CV] END .........................C=0.1, gamma=1, kernel=rbf; total time=   0.0s\n",
            "[CV] END .........................C=0.1, gamma=1, kernel=rbf; total time=   0.0s\n",
            "[CV] END .........................C=0.1, gamma=1, kernel=rbf; total time=   0.0s\n",
            "[CV] END ........................C=0.1, gamma=1, kernel=poly; total time=   0.0s\n",
            "[CV] END ........................C=0.1, gamma=1, kernel=poly; total time=   0.0s\n",
            "[CV] END ........................C=0.1, gamma=1, kernel=poly; total time=   0.0s\n",
            "[CV] END ........................C=0.1, gamma=1, kernel=poly; total time=   0.0s\n",
            "[CV] END ........................C=0.1, gamma=1, kernel=poly; total time=   0.0s\n",
            "[CV] END .....................C=0.1, gamma=1, kernel=sigmoid; total time=   0.0s\n",
            "[CV] END .....................C=0.1, gamma=1, kernel=sigmoid; total time=   0.0s\n",
            "[CV] END .....................C=0.1, gamma=1, kernel=sigmoid; total time=   0.0s\n",
            "[CV] END .....................C=0.1, gamma=1, kernel=sigmoid; total time=   0.0s\n",
            "[CV] END .....................C=0.1, gamma=1, kernel=sigmoid; total time=   0.0s\n",
            "[CV] END .......................C=0.1, gamma=0.1, kernel=rbf; total time=   0.0s\n",
            "[CV] END .......................C=0.1, gamma=0.1, kernel=rbf; total time=   0.0s\n",
            "[CV] END .......................C=0.1, gamma=0.1, kernel=rbf; total time=   0.0s\n",
            "[CV] END .......................C=0.1, gamma=0.1, kernel=rbf; total time=   0.0s\n",
            "[CV] END .......................C=0.1, gamma=0.1, kernel=rbf; total time=   0.0s\n",
            "[CV] END ......................C=0.1, gamma=0.1, kernel=poly; total time=   0.0s\n",
            "[CV] END ......................C=0.1, gamma=0.1, kernel=poly; total time=   0.0s\n",
            "[CV] END ......................C=0.1, gamma=0.1, kernel=poly; total time=   0.0s\n",
            "[CV] END ......................C=0.1, gamma=0.1, kernel=poly; total time=   0.0s\n",
            "[CV] END ......................C=0.1, gamma=0.1, kernel=poly; total time=   0.0s\n",
            "[CV] END ...................C=0.1, gamma=0.1, kernel=sigmoid; total time=   0.0s\n",
            "[CV] END ...................C=0.1, gamma=0.1, kernel=sigmoid; total time=   0.0s\n",
            "[CV] END ...................C=0.1, gamma=0.1, kernel=sigmoid; total time=   0.0s\n",
            "[CV] END ...................C=0.1, gamma=0.1, kernel=sigmoid; total time=   0.0s\n",
            "[CV] END ...................C=0.1, gamma=0.1, kernel=sigmoid; total time=   0.0s\n",
            "[CV] END ......................C=0.1, gamma=0.01, kernel=rbf; total time=   0.0s\n",
            "[CV] END ......................C=0.1, gamma=0.01, kernel=rbf; total time=   0.0s\n",
            "[CV] END ......................C=0.1, gamma=0.01, kernel=rbf; total time=   0.0s\n",
            "[CV] END ......................C=0.1, gamma=0.01, kernel=rbf; total time=   0.0s\n",
            "[CV] END ......................C=0.1, gamma=0.01, kernel=rbf; total time=   0.0s\n",
            "[CV] END .....................C=0.1, gamma=0.01, kernel=poly; total time=   0.0s\n",
            "[CV] END .....................C=0.1, gamma=0.01, kernel=poly; total time=   0.0s\n",
            "[CV] END .....................C=0.1, gamma=0.01, kernel=poly; total time=   0.0s\n",
            "[CV] END .....................C=0.1, gamma=0.01, kernel=poly; total time=   0.0s\n",
            "[CV] END .....................C=0.1, gamma=0.01, kernel=poly; total time=   0.0s\n",
            "[CV] END ..................C=0.1, gamma=0.01, kernel=sigmoid; total time=   0.0s\n",
            "[CV] END ..................C=0.1, gamma=0.01, kernel=sigmoid; total time=   0.0s\n",
            "[CV] END ..................C=0.1, gamma=0.01, kernel=sigmoid; total time=   0.0s\n",
            "[CV] END ..................C=0.1, gamma=0.01, kernel=sigmoid; total time=   0.0s\n",
            "[CV] END ..................C=0.1, gamma=0.01, kernel=sigmoid; total time=   0.0s\n",
            "[CV] END .....................C=0.1, gamma=0.001, kernel=rbf; total time=   0.0s\n",
            "[CV] END .....................C=0.1, gamma=0.001, kernel=rbf; total time=   0.0s\n",
            "[CV] END .....................C=0.1, gamma=0.001, kernel=rbf; total time=   0.0s\n",
            "[CV] END .....................C=0.1, gamma=0.001, kernel=rbf; total time=   0.0s\n",
            "[CV] END .....................C=0.1, gamma=0.001, kernel=rbf; total time=   0.0s\n",
            "[CV] END ....................C=0.1, gamma=0.001, kernel=poly; total time=   0.0s\n",
            "[CV] END ....................C=0.1, gamma=0.001, kernel=poly; total time=   0.0s\n",
            "[CV] END ....................C=0.1, gamma=0.001, kernel=poly; total time=   0.0s\n",
            "[CV] END ....................C=0.1, gamma=0.001, kernel=poly; total time=   0.0s\n",
            "[CV] END ....................C=0.1, gamma=0.001, kernel=poly; total time=   0.0s\n",
            "[CV] END .................C=0.1, gamma=0.001, kernel=sigmoid; total time=   0.0s\n",
            "[CV] END .................C=0.1, gamma=0.001, kernel=sigmoid; total time=   0.0s\n",
            "[CV] END .................C=0.1, gamma=0.001, kernel=sigmoid; total time=   0.0s\n",
            "[CV] END .................C=0.1, gamma=0.001, kernel=sigmoid; total time=   0.0s\n",
            "[CV] END .................C=0.1, gamma=0.001, kernel=sigmoid; total time=   0.0s\n",
            "[CV] END ...........................C=1, gamma=1, kernel=rbf; total time=   0.0s\n",
            "[CV] END ...........................C=1, gamma=1, kernel=rbf; total time=   0.0s\n",
            "[CV] END ...........................C=1, gamma=1, kernel=rbf; total time=   0.0s\n",
            "[CV] END ...........................C=1, gamma=1, kernel=rbf; total time=   0.0s\n",
            "[CV] END ...........................C=1, gamma=1, kernel=rbf; total time=   0.0s\n",
            "[CV] END ..........................C=1, gamma=1, kernel=poly; total time=   0.0s\n",
            "[CV] END ..........................C=1, gamma=1, kernel=poly; total time=   0.0s\n",
            "[CV] END ..........................C=1, gamma=1, kernel=poly; total time=   0.0s\n",
            "[CV] END ..........................C=1, gamma=1, kernel=poly; total time=   0.0s\n",
            "[CV] END ..........................C=1, gamma=1, kernel=poly; total time=   0.0s\n",
            "[CV] END .......................C=1, gamma=1, kernel=sigmoid; total time=   0.0s\n",
            "[CV] END .......................C=1, gamma=1, kernel=sigmoid; total time=   0.0s\n",
            "[CV] END .......................C=1, gamma=1, kernel=sigmoid; total time=   0.0s\n",
            "[CV] END .......................C=1, gamma=1, kernel=sigmoid; total time=   0.0s\n",
            "[CV] END .......................C=1, gamma=1, kernel=sigmoid; total time=   0.0s\n",
            "[CV] END .........................C=1, gamma=0.1, kernel=rbf; total time=   0.0s\n",
            "[CV] END .........................C=1, gamma=0.1, kernel=rbf; total time=   0.0s\n",
            "[CV] END .........................C=1, gamma=0.1, kernel=rbf; total time=   0.0s\n",
            "[CV] END .........................C=1, gamma=0.1, kernel=rbf; total time=   0.0s\n",
            "[CV] END .........................C=1, gamma=0.1, kernel=rbf; total time=   0.0s\n",
            "[CV] END ........................C=1, gamma=0.1, kernel=poly; total time=   0.0s\n",
            "[CV] END ........................C=1, gamma=0.1, kernel=poly; total time=   0.0s\n",
            "[CV] END ........................C=1, gamma=0.1, kernel=poly; total time=   0.0s\n",
            "[CV] END ........................C=1, gamma=0.1, kernel=poly; total time=   0.0s\n",
            "[CV] END ........................C=1, gamma=0.1, kernel=poly; total time=   0.0s\n",
            "[CV] END .....................C=1, gamma=0.1, kernel=sigmoid; total time=   0.0s\n",
            "[CV] END .....................C=1, gamma=0.1, kernel=sigmoid; total time=   0.0s\n",
            "[CV] END .....................C=1, gamma=0.1, kernel=sigmoid; total time=   0.0s\n",
            "[CV] END .....................C=1, gamma=0.1, kernel=sigmoid; total time=   0.0s\n",
            "[CV] END .....................C=1, gamma=0.1, kernel=sigmoid; total time=   0.0s\n",
            "[CV] END ........................C=1, gamma=0.01, kernel=rbf; total time=   0.0s\n",
            "[CV] END ........................C=1, gamma=0.01, kernel=rbf; total time=   0.0s\n",
            "[CV] END ........................C=1, gamma=0.01, kernel=rbf; total time=   0.0s\n",
            "[CV] END ........................C=1, gamma=0.01, kernel=rbf; total time=   0.0s\n",
            "[CV] END ........................C=1, gamma=0.01, kernel=rbf; total time=   0.0s\n",
            "[CV] END .......................C=1, gamma=0.01, kernel=poly; total time=   0.0s\n",
            "[CV] END .......................C=1, gamma=0.01, kernel=poly; total time=   0.0s\n",
            "[CV] END .......................C=1, gamma=0.01, kernel=poly; total time=   0.0s\n",
            "[CV] END .......................C=1, gamma=0.01, kernel=poly; total time=   0.0s\n",
            "[CV] END .......................C=1, gamma=0.01, kernel=poly; total time=   0.0s\n",
            "[CV] END ....................C=1, gamma=0.01, kernel=sigmoid; total time=   0.0s\n",
            "[CV] END ....................C=1, gamma=0.01, kernel=sigmoid; total time=   0.0s\n",
            "[CV] END ....................C=1, gamma=0.01, kernel=sigmoid; total time=   0.0s\n",
            "[CV] END ....................C=1, gamma=0.01, kernel=sigmoid; total time=   0.0s\n",
            "[CV] END ....................C=1, gamma=0.01, kernel=sigmoid; total time=   0.0s\n",
            "[CV] END .......................C=1, gamma=0.001, kernel=rbf; total time=   0.0s\n",
            "[CV] END .......................C=1, gamma=0.001, kernel=rbf; total time=   0.0s\n",
            "[CV] END .......................C=1, gamma=0.001, kernel=rbf; total time=   0.0s\n",
            "[CV] END .......................C=1, gamma=0.001, kernel=rbf; total time=   0.0s\n",
            "[CV] END .......................C=1, gamma=0.001, kernel=rbf; total time=   0.0s\n",
            "[CV] END ......................C=1, gamma=0.001, kernel=poly; total time=   0.0s\n",
            "[CV] END ......................C=1, gamma=0.001, kernel=poly; total time=   0.0s\n",
            "[CV] END ......................C=1, gamma=0.001, kernel=poly; total time=   0.0s\n",
            "[CV] END ......................C=1, gamma=0.001, kernel=poly; total time=   0.0s\n",
            "[CV] END ......................C=1, gamma=0.001, kernel=poly; total time=   0.0s\n",
            "[CV] END ...................C=1, gamma=0.001, kernel=sigmoid; total time=   0.0s\n",
            "[CV] END ...................C=1, gamma=0.001, kernel=sigmoid; total time=   0.0s\n",
            "[CV] END ...................C=1, gamma=0.001, kernel=sigmoid; total time=   0.0s\n",
            "[CV] END ...................C=1, gamma=0.001, kernel=sigmoid; total time=   0.0s\n",
            "[CV] END ...................C=1, gamma=0.001, kernel=sigmoid; total time=   0.0s\n",
            "[CV] END ..........................C=10, gamma=1, kernel=rbf; total time=   0.0s\n",
            "[CV] END ..........................C=10, gamma=1, kernel=rbf; total time=   0.0s\n",
            "[CV] END ..........................C=10, gamma=1, kernel=rbf; total time=   0.0s\n",
            "[CV] END ..........................C=10, gamma=1, kernel=rbf; total time=   0.0s\n",
            "[CV] END ..........................C=10, gamma=1, kernel=rbf; total time=   0.0s\n",
            "[CV] END .........................C=10, gamma=1, kernel=poly; total time=   0.0s\n",
            "[CV] END .........................C=10, gamma=1, kernel=poly; total time=   0.0s\n",
            "[CV] END .........................C=10, gamma=1, kernel=poly; total time=   0.0s\n",
            "[CV] END .........................C=10, gamma=1, kernel=poly; total time=   0.0s\n",
            "[CV] END .........................C=10, gamma=1, kernel=poly; total time=   0.0s\n",
            "[CV] END ......................C=10, gamma=1, kernel=sigmoid; total time=   0.0s\n",
            "[CV] END ......................C=10, gamma=1, kernel=sigmoid; total time=   0.0s\n",
            "[CV] END ......................C=10, gamma=1, kernel=sigmoid; total time=   0.0s\n",
            "[CV] END ......................C=10, gamma=1, kernel=sigmoid; total time=   0.0s\n",
            "[CV] END ......................C=10, gamma=1, kernel=sigmoid; total time=   0.0s\n",
            "[CV] END ........................C=10, gamma=0.1, kernel=rbf; total time=   0.0s\n",
            "[CV] END ........................C=10, gamma=0.1, kernel=rbf; total time=   0.0s\n",
            "[CV] END ........................C=10, gamma=0.1, kernel=rbf; total time=   0.0s\n",
            "[CV] END ........................C=10, gamma=0.1, kernel=rbf; total time=   0.0s\n",
            "[CV] END ........................C=10, gamma=0.1, kernel=rbf; total time=   0.0s\n",
            "[CV] END .......................C=10, gamma=0.1, kernel=poly; total time=   0.0s\n",
            "[CV] END .......................C=10, gamma=0.1, kernel=poly; total time=   0.0s\n",
            "[CV] END .......................C=10, gamma=0.1, kernel=poly; total time=   0.0s\n",
            "[CV] END .......................C=10, gamma=0.1, kernel=poly; total time=   0.0s\n",
            "[CV] END .......................C=10, gamma=0.1, kernel=poly; total time=   0.0s\n",
            "[CV] END ....................C=10, gamma=0.1, kernel=sigmoid; total time=   0.0s\n",
            "[CV] END ....................C=10, gamma=0.1, kernel=sigmoid; total time=   0.0s\n",
            "[CV] END ....................C=10, gamma=0.1, kernel=sigmoid; total time=   0.0s\n",
            "[CV] END ....................C=10, gamma=0.1, kernel=sigmoid; total time=   0.0s\n",
            "[CV] END ....................C=10, gamma=0.1, kernel=sigmoid; total time=   0.0s\n",
            "[CV] END .......................C=10, gamma=0.01, kernel=rbf; total time=   0.0s\n",
            "[CV] END .......................C=10, gamma=0.01, kernel=rbf; total time=   0.0s\n",
            "[CV] END .......................C=10, gamma=0.01, kernel=rbf; total time=   0.0s\n",
            "[CV] END .......................C=10, gamma=0.01, kernel=rbf; total time=   0.0s\n",
            "[CV] END .......................C=10, gamma=0.01, kernel=rbf; total time=   0.0s\n",
            "[CV] END ......................C=10, gamma=0.01, kernel=poly; total time=   0.0s\n",
            "[CV] END ......................C=10, gamma=0.01, kernel=poly; total time=   0.0s\n",
            "[CV] END ......................C=10, gamma=0.01, kernel=poly; total time=   0.0s\n",
            "[CV] END ......................C=10, gamma=0.01, kernel=poly; total time=   0.0s\n",
            "[CV] END ......................C=10, gamma=0.01, kernel=poly; total time=   0.0s\n",
            "[CV] END ...................C=10, gamma=0.01, kernel=sigmoid; total time=   0.0s\n",
            "[CV] END ...................C=10, gamma=0.01, kernel=sigmoid; total time=   0.0s\n",
            "[CV] END ...................C=10, gamma=0.01, kernel=sigmoid; total time=   0.0s\n",
            "[CV] END ...................C=10, gamma=0.01, kernel=sigmoid; total time=   0.0s\n",
            "[CV] END ...................C=10, gamma=0.01, kernel=sigmoid; total time=   0.0s\n",
            "[CV] END ......................C=10, gamma=0.001, kernel=rbf; total time=   0.0s\n",
            "[CV] END ......................C=10, gamma=0.001, kernel=rbf; total time=   0.0s\n",
            "[CV] END ......................C=10, gamma=0.001, kernel=rbf; total time=   0.0s\n",
            "[CV] END ......................C=10, gamma=0.001, kernel=rbf; total time=   0.0s\n",
            "[CV] END ......................C=10, gamma=0.001, kernel=rbf; total time=   0.0s\n",
            "[CV] END .....................C=10, gamma=0.001, kernel=poly; total time=   0.0s\n",
            "[CV] END .....................C=10, gamma=0.001, kernel=poly; total time=   0.0s\n",
            "[CV] END .....................C=10, gamma=0.001, kernel=poly; total time=   0.0s\n",
            "[CV] END .....................C=10, gamma=0.001, kernel=poly; total time=   0.0s\n",
            "[CV] END .....................C=10, gamma=0.001, kernel=poly; total time=   0.0s\n",
            "[CV] END ..................C=10, gamma=0.001, kernel=sigmoid; total time=   0.0s\n",
            "[CV] END ..................C=10, gamma=0.001, kernel=sigmoid; total time=   0.0s\n",
            "[CV] END ..................C=10, gamma=0.001, kernel=sigmoid; total time=   0.0s\n",
            "[CV] END ..................C=10, gamma=0.001, kernel=sigmoid; total time=   0.0s\n",
            "[CV] END ..................C=10, gamma=0.001, kernel=sigmoid; total time=   0.0s\n",
            "[CV] END .........................C=100, gamma=1, kernel=rbf; total time=   0.0s\n",
            "[CV] END .........................C=100, gamma=1, kernel=rbf; total time=   0.0s\n",
            "[CV] END .........................C=100, gamma=1, kernel=rbf; total time=   0.0s\n",
            "[CV] END .........................C=100, gamma=1, kernel=rbf; total time=   0.0s\n",
            "[CV] END .........................C=100, gamma=1, kernel=rbf; total time=   0.0s\n",
            "[CV] END ........................C=100, gamma=1, kernel=poly; total time=   0.0s\n",
            "[CV] END ........................C=100, gamma=1, kernel=poly; total time=   0.0s\n",
            "[CV] END ........................C=100, gamma=1, kernel=poly; total time=   0.0s\n",
            "[CV] END ........................C=100, gamma=1, kernel=poly; total time=   0.0s\n",
            "[CV] END ........................C=100, gamma=1, kernel=poly; total time=   0.0s\n",
            "[CV] END .....................C=100, gamma=1, kernel=sigmoid; total time=   0.0s\n",
            "[CV] END .....................C=100, gamma=1, kernel=sigmoid; total time=   0.0s\n",
            "[CV] END .....................C=100, gamma=1, kernel=sigmoid; total time=   0.0s\n",
            "[CV] END .....................C=100, gamma=1, kernel=sigmoid; total time=   0.0s\n",
            "[CV] END .....................C=100, gamma=1, kernel=sigmoid; total time=   0.0s\n",
            "[CV] END .......................C=100, gamma=0.1, kernel=rbf; total time=   0.0s\n",
            "[CV] END .......................C=100, gamma=0.1, kernel=rbf; total time=   0.0s\n",
            "[CV] END .......................C=100, gamma=0.1, kernel=rbf; total time=   0.0s\n",
            "[CV] END .......................C=100, gamma=0.1, kernel=rbf; total time=   0.0s\n",
            "[CV] END .......................C=100, gamma=0.1, kernel=rbf; total time=   0.0s\n",
            "[CV] END ......................C=100, gamma=0.1, kernel=poly; total time=   0.0s\n",
            "[CV] END ......................C=100, gamma=0.1, kernel=poly; total time=   0.0s\n",
            "[CV] END ......................C=100, gamma=0.1, kernel=poly; total time=   0.0s\n",
            "[CV] END ......................C=100, gamma=0.1, kernel=poly; total time=   0.0s\n",
            "[CV] END ......................C=100, gamma=0.1, kernel=poly; total time=   0.0s\n",
            "[CV] END ...................C=100, gamma=0.1, kernel=sigmoid; total time=   0.0s\n",
            "[CV] END ...................C=100, gamma=0.1, kernel=sigmoid; total time=   0.0s\n",
            "[CV] END ...................C=100, gamma=0.1, kernel=sigmoid; total time=   0.0s\n",
            "[CV] END ...................C=100, gamma=0.1, kernel=sigmoid; total time=   0.0s\n",
            "[CV] END ...................C=100, gamma=0.1, kernel=sigmoid; total time=   0.0s\n",
            "[CV] END ......................C=100, gamma=0.01, kernel=rbf; total time=   0.0s\n",
            "[CV] END ......................C=100, gamma=0.01, kernel=rbf; total time=   0.0s\n",
            "[CV] END ......................C=100, gamma=0.01, kernel=rbf; total time=   0.0s\n",
            "[CV] END ......................C=100, gamma=0.01, kernel=rbf; total time=   0.0s\n",
            "[CV] END ......................C=100, gamma=0.01, kernel=rbf; total time=   0.0s\n",
            "[CV] END .....................C=100, gamma=0.01, kernel=poly; total time=   0.0s\n",
            "[CV] END .....................C=100, gamma=0.01, kernel=poly; total time=   0.0s\n",
            "[CV] END .....................C=100, gamma=0.01, kernel=poly; total time=   0.0s\n",
            "[CV] END .....................C=100, gamma=0.01, kernel=poly; total time=   0.0s\n",
            "[CV] END .....................C=100, gamma=0.01, kernel=poly; total time=   0.0s\n",
            "[CV] END ..................C=100, gamma=0.01, kernel=sigmoid; total time=   0.0s\n",
            "[CV] END ..................C=100, gamma=0.01, kernel=sigmoid; total time=   0.0s\n",
            "[CV] END ..................C=100, gamma=0.01, kernel=sigmoid; total time=   0.0s\n",
            "[CV] END ..................C=100, gamma=0.01, kernel=sigmoid; total time=   0.0s\n",
            "[CV] END ..................C=100, gamma=0.01, kernel=sigmoid; total time=   0.0s\n",
            "[CV] END .....................C=100, gamma=0.001, kernel=rbf; total time=   0.0s\n",
            "[CV] END .....................C=100, gamma=0.001, kernel=rbf; total time=   0.0s\n",
            "[CV] END .....................C=100, gamma=0.001, kernel=rbf; total time=   0.0s\n",
            "[CV] END .....................C=100, gamma=0.001, kernel=rbf; total time=   0.0s\n",
            "[CV] END .....................C=100, gamma=0.001, kernel=rbf; total time=   0.0s\n",
            "[CV] END ....................C=100, gamma=0.001, kernel=poly; total time=   0.0s\n",
            "[CV] END ....................C=100, gamma=0.001, kernel=poly; total time=   0.0s\n",
            "[CV] END ....................C=100, gamma=0.001, kernel=poly; total time=   0.0s\n",
            "[CV] END ....................C=100, gamma=0.001, kernel=poly; total time=   0.0s\n",
            "[CV] END ....................C=100, gamma=0.001, kernel=poly; total time=   0.0s\n",
            "[CV] END .................C=100, gamma=0.001, kernel=sigmoid; total time=   0.0s\n",
            "[CV] END .................C=100, gamma=0.001, kernel=sigmoid; total time=   0.0s\n",
            "[CV] END .................C=100, gamma=0.001, kernel=sigmoid; total time=   0.0s\n",
            "[CV] END .................C=100, gamma=0.001, kernel=sigmoid; total time=   0.0s\n",
            "[CV] END .................C=100, gamma=0.001, kernel=sigmoid; total time=   0.0s\n"
          ]
        },
        {
          "output_type": "execute_result",
          "data": {
            "text/plain": [
              "GridSearchCV(estimator=SVC(),\n",
              "             param_grid={'C': [0.1, 1, 10, 100], 'gamma': [1, 0.1, 0.01, 0.001],\n",
              "                         'kernel': ['rbf', 'poly', 'sigmoid']},\n",
              "             verbose=2)"
            ]
          },
          "metadata": {},
          "execution_count": 35
        }
      ],
      "source": [
        "grid = GridSearchCV(SVC(),param_grid,refit=True,verbose=2)\n",
        "grid.fit(X_train,y_train)"
      ]
    },
    {
      "cell_type": "code",
      "execution_count": null,
      "metadata": {
        "colab": {
          "base_uri": "https://localhost:8080/"
        },
        "id": "FaaP1jOhPcG4",
        "outputId": "1c223fc5-017a-40af-b32e-161ab2ea2bbe"
      },
      "outputs": [
        {
          "output_type": "stream",
          "name": "stdout",
          "text": [
            "SVC(C=1, gamma=1, kernel='poly')\n"
          ]
        }
      ],
      "source": [
        "print(grid.best_estimator_)"
      ]
    },
    {
      "cell_type": "code",
      "execution_count": null,
      "metadata": {
        "id": "T-UpBUfpPe7y"
      },
      "outputs": [],
      "source": [
        "y_pred_svm2=grid.predict(X_test)"
      ]
    },
    {
      "cell_type": "code",
      "execution_count": null,
      "metadata": {
        "colab": {
          "base_uri": "https://localhost:8080/"
        },
        "id": "mSAPvsH9Pw_y",
        "outputId": "ee5ba8e6-dd10-4db3-a2eb-badf2a26ddfa"
      },
      "outputs": [
        {
          "output_type": "stream",
          "name": "stdout",
          "text": [
            "method: SVM after tuning the hyperparameters; metric: accuracy_score; 0.6571428571428571\n"
          ]
        }
      ],
      "source": [
        "print(f\"method: SVM after tuning the hyperparameters; metric: accuracy_score; {accuracy_score(y_test, y_pred_svm2)}\")"
      ]
    },
    {
      "cell_type": "code",
      "execution_count": null,
      "metadata": {
        "colab": {
          "base_uri": "https://localhost:8080/"
        },
        "id": "wCDCbC_0P8zo",
        "outputId": "b417c5b6-0aca-4531-f495-a467160b0eca"
      },
      "outputs": [
        {
          "output_type": "execute_result",
          "data": {
            "text/plain": [
              "Text(0.5, 15.0, 'Predicted label')"
            ]
          },
          "metadata": {},
          "execution_count": 39
        },
        {
          "output_type": "display_data",
          "data": {
            "image/png": "[encoded data removed]",
            "text/plain": [
              "<Figure size 432x288 with 1 Axes>"
            ]
          },
          "metadata": {
            "needs_background": "light"
          }
        }
      ],
      "source": [
        "cfm = confusion_matrix(y_test, y_pred_svm2)\n",
        "sns.heatmap(cfm, annot = True,  linewidths=.5, cbar =None)\n",
        "plt.title('SVM Classifier after tuning the hyperparameters')\n",
        "plt.ylabel('True label')\n",
        "plt.xlabel('Predicted label')"
      ]
    },
    {
      "cell_type": "markdown",
      "metadata": {
        "id": "C-AsXEThEqH-"
      },
      "source": [
        "##A random forest classifier"
      ]
    },
    {
      "cell_type": "code",
      "execution_count": null,
      "metadata": {
        "id": "6GZGLOG-Z5vW"
      },
      "outputs": [],
      "source": [
        "classifier_RFC = RandomForestClassifier()\n",
        "classifier_RFC = classifier_RFC.fit(X_train, y_train)\n",
        "y_pred_RFC=classifier_RFC.predict(X_test)"
      ]
    },
    {
      "cell_type": "code",
      "execution_count": null,
      "metadata": {
        "colab": {
          "base_uri": "https://localhost:8080/"
        },
        "id": "qHgJ-mrUbauo",
        "outputId": "9dded6b5-09f4-4d1a-b496-cd173ad5fd8c"
      },
      "outputs": [
        {
          "output_type": "stream",
          "name": "stdout",
          "text": [
            "method: Random Forest Classifier; metric: accuracy_score; 0.6285714285714286\n"
          ]
        }
      ],
      "source": [
        "print(f\"method: Random Forest Classifier; metric: accuracy_score; {accuracy_score(y_test, y_pred_RFC)}\")"
      ]
    },
    {
      "cell_type": "code",
      "execution_count": null,
      "metadata": {
        "colab": {
          "base_uri": "https://localhost:8080/",
          "height": 312
        },
        "id": "ZFCfbxxibgPd",
        "outputId": "da0ab93b-fad9-4803-a8b2-9b713fd5829a"
      },
      "outputs": [
        {
          "output_type": "execute_result",
          "data": {
            "text/plain": [
              "Text(0.5, 15.0, 'Predicted label')"
            ]
          },
          "metadata": {},
          "execution_count": 42
        },
        {
          "output_type": "display_data",
          "data": {
            "image/png": "[encoded data removed]",
            "text/plain": [
              "<Figure size 432x288 with 1 Axes>"
            ]
          },
          "metadata": {
            "needs_background": "light"
          }
        }
      ],
      "source": [
        "cfm = confusion_matrix(y_test, y_pred_RFC)\n",
        "sns.heatmap(cfm, annot = True,  linewidths=.5, cbar =None)\n",
        "plt.title('Random Forest Classifier')\n",
        "plt.ylabel('True label')\n",
        "plt.xlabel('Predicted label')"
      ]
    },
    {
      "cell_type": "markdown",
      "metadata": {
        "id": "Yrs8R5kmg-k2"
      },
      "source": [
        "##Tuning the random forest classifier"
      ]
    },
    {
      "cell_type": "code",
      "execution_count": null,
      "metadata": {
        "id": "topiwufOhQeN"
      },
      "outputs": [],
      "source": [
        "random_grid = {'bootstrap': [True, False],\n",
        " 'max_depth': [10, 20, 30, 40, 50, 60, 70, 80, 90, 100],\n",
        " 'max_features': ['auto', 'sqrt'],\n",
        " 'min_samples_leaf': [1, 2, 4],\n",
        " 'min_samples_split': [2, 5, 10],\n",
        " 'n_estimators': [600, 800, 1000, 1200, 1400, 1600, 1800, 2000,2200,2400]}"
      ]
    },
    {
      "cell_type": "code",
      "execution_count": null,
      "metadata": {
        "id": "M7o19N6lhds5"
      },
      "outputs": [],
      "source": [
        "rf_random = RandomizedSearchCV(estimator = RandomForestClassifier(), param_distributions = random_grid, n_iter = 100, cv = 3, verbose=2, random_state=42, n_jobs = -1)"
      ]
    },
    {
      "cell_type": "code",
      "execution_count": null,
      "metadata": {
        "colab": {
          "base_uri": "https://localhost:8080/"
        },
        "id": "kS-IgClpiOzN",
        "outputId": "304acd43-dd7c-44e1-f62d-703d2c056cce"
      },
      "outputs": [
        {
          "output_type": "stream",
          "name": "stdout",
          "text": [
            "Fitting 3 folds for each of 100 candidates, totalling 300 fits\n"
          ]
        },
        {
          "output_type": "execute_result",
          "data": {
            "text/plain": [
              "RandomizedSearchCV(cv=3, estimator=RandomForestClassifier(), n_iter=100,\n",
              "                   n_jobs=-1,\n",
              "                   param_distributions={'bootstrap': [True, False],\n",
              "                                        'max_depth': [10, 20, 30, 40, 50, 60,\n",
              "                                                      70, 80, 90, 100],\n",
              "                                        'max_features': ['auto', 'sqrt'],\n",
              "                                        'min_samples_leaf': [1, 2, 4],\n",
              "                                        'min_samples_split': [2, 5, 10],\n",
              "                                        'n_estimators': [600, 800, 1000, 1200,\n",
              "                                                         1400, 1600, 1800, 2000,\n",
              "                                                         2200, 2400]},\n",
              "                   random_state=42, verbose=2)"
            ]
          },
          "metadata": {},
          "execution_count": 77
        }
      ],
      "source": [
        "rf_random.fit(X_train, y_train)"
      ]
    },
    {
      "cell_type": "code",
      "execution_count": null,
      "metadata": {
        "colab": {
          "base_uri": "https://localhost:8080/"
        },
        "id": "CowrEhClikf4",
        "outputId": "25b13199-bfe9-4250-91e8-b0bcda1775e9"
      },
      "outputs": [
        {
          "output_type": "execute_result",
          "data": {
            "text/plain": [
              "{'bootstrap': True,\n",
              " 'max_depth': 10,\n",
              " 'max_features': 'sqrt',\n",
              " 'min_samples_leaf': 2,\n",
              " 'min_samples_split': 5,\n",
              " 'n_estimators': 1400}"
            ]
          },
          "metadata": {},
          "execution_count": 82
        }
      ],
      "source": [
        "rf_random.best_params_"
      ]
    },
    {
      "cell_type": "code",
      "execution_count": null,
      "metadata": {
        "id": "0-WiTQTXiluU"
      },
      "outputs": [],
      "source": [
        "y_pred_RFC2=rf_random.predict(X_test)"
      ]
    },
    {
      "cell_type": "code",
      "execution_count": null,
      "metadata": {
        "colab": {
          "base_uri": "https://localhost:8080/"
        },
        "id": "pyPKABDRi59g",
        "outputId": "d7cdde31-c1cd-4a10-80b6-c4b3301030c7"
      },
      "outputs": [
        {
          "output_type": "stream",
          "name": "stdout",
          "text": [
            "method: Random Forest Classifier after tuning the hyperparameters; metric: accuracy_score; 0.7142857142857143\n"
          ]
        }
      ],
      "source": [
        "print(f\"method: Random Forest Classifier after tuning the hyperparameters; metric: accuracy_score; {accuracy_score(y_test, y_pred_RFC2)}\")"
      ]
    },
    {
      "cell_type": "code",
      "execution_count": null,
      "metadata": {
        "colab": {
          "base_uri": "https://localhost:8080/"
        },
        "id": "Cb17xQ08jJzM",
        "outputId": "74eae263-72d7-432d-923f-e60ada839c05"
      },
      "outputs": [
        {
          "output_type": "execute_result",
          "data": {
            "text/plain": [
              "Text(0.5, 18.5, 'Predicted label')"
            ]
          },
          "metadata": {},
          "execution_count": 85
        },
        {
          "output_type": "display_data",
          "data": {
            "image/png": "[encoded data removed]",
            "text/plain": [
              "<Figure size 432x288 with 1 Axes>"
            ]
          },
          "metadata": {}
        }
      ],
      "source": [
        "cfm = confusion_matrix(y_test, y_pred_RFC2)\n",
        "sns.heatmap(cfm, annot = True,  linewidths=.5, cbar =None)\n",
        "plt.title('Random Forest Classifier after tuning the hyperparameters')\n",
        "plt.ylabel('True label')\n",
        "plt.xlabel('Predicted label')"
      ]
    },
    {
      "cell_type": "markdown",
      "source": [
        "## Tuning the random forest classifier, second way"
      ],
      "metadata": {
        "id": "oldkutqtUUz0"
      }
    },
    {
      "cell_type": "code",
      "source": [
        "seed = 13\n",
        "from sklearn.model_selection import KFold\n",
        "kfold = KFold(n_splits=3, shuffle=True, random_state=seed)"
      ],
      "metadata": {
        "id": "zK2zPC_iUUPV"
      },
      "execution_count": null,
      "outputs": []
    },
    {
      "cell_type": "code",
      "source": [
        "from pprint import pprint\n",
        "# Look at parameters used by our current forest\n",
        "print('Parameters currently in use:\\n')\n",
        "pprint(classifier_RFC.get_params())"
      ],
      "metadata": {
        "colab": {
          "base_uri": "https://localhost:8080/"
        },
        "id": "ar4PDUfbUh40",
        "outputId": "a5cd316e-c347-48e8-e5fb-e9d2fca5f81a"
      },
      "execution_count": null,
      "outputs": [
        {
          "output_type": "stream",
          "name": "stdout",
          "text": [
            "Parameters currently in use:\n",
            "\n",
            "{'bootstrap': True,\n",
            " 'ccp_alpha': 0.0,\n",
            " 'class_weight': None,\n",
            " 'criterion': 'gini',\n",
            " 'max_depth': None,\n",
            " 'max_features': 'auto',\n",
            " 'max_leaf_nodes': None,\n",
            " 'max_samples': None,\n",
            " 'min_impurity_decrease': 0.0,\n",
            " 'min_samples_leaf': 1,\n",
            " 'min_samples_split': 2,\n",
            " 'min_weight_fraction_leaf': 0.0,\n",
            " 'n_estimators': 100,\n",
            " 'n_jobs': None,\n",
            " 'oob_score': False,\n",
            " 'random_state': None,\n",
            " 'verbose': 0,\n",
            " 'warm_start': False}\n"
          ]
        }
      ]
    },
    {
      "cell_type": "code",
      "source": [
        "#from sklearn.model_selection import GridSearchCV\n",
        "param_grid = {\n",
        "    'n_estimators': [50, 100, 200, 300],\n",
        "    'max_features': ['auto', 'sqrt'],\n",
        "    'max_depth': [10, 20, 30, 40, 50, 60, 70],\n",
        "    'min_samples_leaf': [1, 2, 4],\n",
        "    'min_samples_split': [2, 5, 10]}"
      ],
      "metadata": {
        "id": "aNaZ_8vhUo4a"
      },
      "execution_count": null,
      "outputs": []
    },
    {
      "cell_type": "code",
      "source": [
        "# Grid search of parameters, using 3 fold cross validation,\n",
        "CV_rf = GridSearchCV(estimator=classifier_RFC, param_grid=param_grid, cv= kfold ,n_jobs=1)\n",
        "\n",
        "# Use the grid to search for best hyperparameters\n",
        "# Fit the Grid search model\n",
        "CV_rf.fit(X_train, y_train)"
      ],
      "metadata": {
        "colab": {
          "base_uri": "https://localhost:8080/"
        },
        "id": "hP6cb7sYUrm6",
        "outputId": "8dddf6d0-de8b-4043-ef8a-406094467d80"
      },
      "execution_count": null,
      "outputs": [
        {
          "output_type": "execute_result",
          "data": {
            "text/plain": [
              "GridSearchCV(cv=KFold(n_splits=3, random_state=13, shuffle=True),\n",
              "             estimator=RandomForestClassifier(), n_jobs=1,\n",
              "             param_grid={'max_depth': [10, 20, 30, 40, 50, 60, 70],\n",
              "                         'max_features': ['auto', 'sqrt'],\n",
              "                         'min_samples_leaf': [1, 2, 4],\n",
              "                         'min_samples_split': [2, 5, 10],\n",
              "                         'n_estimators': [50, 100, 200, 300]})"
            ]
          },
          "metadata": {},
          "execution_count": 92
        }
      ]
    },
    {
      "cell_type": "code",
      "source": [
        "CV_rf.best_params_\n"
      ],
      "metadata": {
        "colab": {
          "base_uri": "https://localhost:8080/"
        },
        "id": "wrxk8JzdUxF0",
        "outputId": "efda2a4c-ce3f-4ee4-e9eb-dfb7f7fac9c2"
      },
      "execution_count": null,
      "outputs": [
        {
          "output_type": "execute_result",
          "data": {
            "text/plain": [
              "{'max_depth': 10,\n",
              " 'max_features': 'auto',\n",
              " 'min_samples_leaf': 1,\n",
              " 'min_samples_split': 5,\n",
              " 'n_estimators': 100}"
            ]
          },
          "metadata": {},
          "execution_count": 93
        }
      ]
    },
    {
      "cell_type": "code",
      "source": [
        "best_random = CV_rf.best_estimator_\n",
        "rfff_predictions = best_random.predict(X_test)"
      ],
      "metadata": {
        "id": "xFw-pJj3U0sA"
      },
      "execution_count": null,
      "outputs": []
    },
    {
      "cell_type": "code",
      "source": [
        "print(f\"method: Random Forest Classifier after tuning the hyperparameters, second way; metric: accuracy_score; {accuracy_score(y_test, rfff_predictions)}\")"
      ],
      "metadata": {
        "colab": {
          "base_uri": "https://localhost:8080/"
        },
        "id": "i0t1_uVDU8z9",
        "outputId": "b81e1b50-a4aa-463c-ef44-05ebf70b917f"
      },
      "execution_count": null,
      "outputs": [
        {
          "output_type": "stream",
          "name": "stdout",
          "text": [
            "method: Random Forest Classifier after tuning the hyperparameters, second way; metric: accuracy_score; 0.7142857142857143\n"
          ]
        }
      ]
    },
    {
      "cell_type": "code",
      "source": [
        "rfm = confusion_matrix(y_test, rfff_predictions)\n",
        "sns.heatmap(rfm, annot = True,  linewidths=.5, cbar =None)\n",
        "plt.title('Random Forest Classifier confusion matrix')\n",
        "plt.ylabel('True label')\n",
        "plt.xlabel('Predicted label')\n"
      ],
      "metadata": {
        "colab": {
          "base_uri": "https://localhost:8080/",
          "height": 308
        },
        "id": "2oyMVV2yVFlN",
        "outputId": "a4c690e1-363a-406f-8cee-abee5516651b"
      },
      "execution_count": null,
      "outputs": [
        {
          "output_type": "execute_result",
          "data": {
            "text/plain": [
              "Text(0.5, 18.5, 'Predicted label')"
            ]
          },
          "metadata": {},
          "execution_count": 96
        },
        {
          "output_type": "display_data",
          "data": {
            "image/png": "[encoded data removed]",
            "text/plain": [
              "<Figure size 432x288 with 1 Axes>"
            ]
          },
          "metadata": {}
        }
      ]
    },
    {
      "cell_type": "markdown",
      "metadata": {
        "id": "TFS8UV9EE0oD"
      },
      "source": [
        "##Decision Trees"
      ]
    },
    {
      "cell_type": "code",
      "execution_count": null,
      "metadata": {
        "id": "Ml4F1SxPbsa-"
      },
      "outputs": [],
      "source": [
        "from sklearn import  tree\n",
        "classifier_tree = tree.DecisionTreeClassifier()\n",
        "classifier_tree = classifier_tree.fit(X_train, y_train)\n",
        "y_pred_tree=classifier_tree.predict(X_test)"
      ]
    },
    {
      "cell_type": "code",
      "execution_count": null,
      "metadata": {
        "colab": {
          "base_uri": "https://localhost:8080/"
        },
        "id": "iNmdkVE2cT3_",
        "outputId": "8a6f2b5e-65d5-49bf-8e81-b01e3e02b391"
      },
      "outputs": [
        {
          "output_type": "stream",
          "name": "stdout",
          "text": [
            "method: Decision Tree Classifier; metric: accuracy_score; 0.6571428571428571\n"
          ]
        }
      ],
      "source": [
        "print(f\"method: Decision Tree Classifier; metric: accuracy_score; {accuracy_score(y_test, y_pred_tree)}\")"
      ]
    },
    {
      "cell_type": "code",
      "execution_count": null,
      "metadata": {
        "colab": {
          "base_uri": "https://localhost:8080/"
        },
        "id": "2j3_eYDKccWt",
        "outputId": "296d0140-9e7c-40c5-d6db-c8c3583b2d3d"
      },
      "outputs": [
        {
          "output_type": "execute_result",
          "data": {
            "text/plain": [
              "Text(0.5, 15.0, 'Predicted label')"
            ]
          },
          "metadata": {},
          "execution_count": 52
        },
        {
          "output_type": "display_data",
          "data": {
            "image/png": "[encoded data removed]",
            "text/plain": [
              "<Figure size 432x288 with 1 Axes>"
            ]
          },
          "metadata": {
            "needs_background": "light"
          }
        }
      ],
      "source": [
        "cfm = confusion_matrix(y_test, y_pred_tree)\n",
        "sns.heatmap(cfm, annot = True,  linewidths=.5, cbar =None)\n",
        "plt.title('Decision Tree Classifier')\n",
        "plt.ylabel('True label')\n",
        "plt.xlabel('Predicted label')"
      ]
    },
    {
      "cell_type": "markdown",
      "metadata": {
        "id": "8WJZQHYRlL57"
      },
      "source": [
        "## Decision Trees after tuning the hyperparameters"
      ]
    },
    {
      "cell_type": "code",
      "execution_count": null,
      "metadata": {
        "id": "QYb8fGsHcnM9"
      },
      "outputs": [],
      "source": [
        "param_dict = {'criterion': ['gini', 'enteropy'],\n",
        " 'max_depth': range(1,10),\n",
        " 'min_samples_split': range(1,10),\n",
        " 'min_samples_leaf': range(1,5),\n",
        "}"
      ]
    },
    {
      "cell_type": "code",
      "execution_count": null,
      "metadata": {
        "id": "QwAW8KrPmJLL"
      },
      "outputs": [],
      "source": [
        "grid = GridSearchCV(estimator=tree.DecisionTreeClassifier(), param_grid=param_dict, verbose=1, cv=10, n_jobs=-1)"
      ]
    },
    {
      "cell_type": "code",
      "execution_count": null,
      "metadata": {
        "colab": {
          "base_uri": "https://localhost:8080/"
        },
        "id": "VK6tOvnSm4Ol",
        "outputId": "bd5ee7d1-6c77-44b1-f6bb-f57522ac5762"
      },
      "outputs": [
        {
          "output_type": "stream",
          "name": "stdout",
          "text": [
            "Fitting 10 folds for each of 648 candidates, totalling 6480 fits\n"
          ]
        },
        {
          "output_type": "stream",
          "name": "stderr",
          "text": [
            "/usr/local/lib/python3.7/dist-packages/sklearn/model_selection/_validation.py:372: FitFailedWarning: \n",
            "3600 fits failed out of a total of 6480.\n",
            "The score on these train-test partitions for these parameters will be set to nan.\n",
            "If these failures are not expected, you can try to debug them by setting error_score='raise'.\n",
            "\n",
            "Below are more details about the failures:\n",
            "--------------------------------------------------------------------------------\n",
            "720 fits failed with the following error:\n",
            "Traceback (most recent call last):\n",
            "  File \"/usr/local/lib/python3.7/dist-packages/sklearn/model_selection/_validation.py\", line 681, in _fit_and_score\n",
            "    estimator.fit(X_train, y_train, **fit_params)\n",
            "  File \"/usr/local/lib/python3.7/dist-packages/sklearn/tree/_classes.py\", line 942, in fit\n",
            "    X_idx_sorted=X_idx_sorted,\n",
            "  File \"/usr/local/lib/python3.7/dist-packages/sklearn/tree/_classes.py\", line 254, in fit\n",
            "    % self.min_samples_split\n",
            "ValueError: min_samples_split must be an integer greater than 1 or a float in (0.0, 1.0]; got the integer 1\n",
            "\n",
            "--------------------------------------------------------------------------------\n",
            "2880 fits failed with the following error:\n",
            "Traceback (most recent call last):\n",
            "  File \"/usr/local/lib/python3.7/dist-packages/sklearn/model_selection/_validation.py\", line 681, in _fit_and_score\n",
            "    estimator.fit(X_train, y_train, **fit_params)\n",
            "  File \"/usr/local/lib/python3.7/dist-packages/sklearn/tree/_classes.py\", line 942, in fit\n",
            "    X_idx_sorted=X_idx_sorted,\n",
            "  File \"/usr/local/lib/python3.7/dist-packages/sklearn/tree/_classes.py\", line 352, in fit\n",
            "    criterion = CRITERIA_CLF[self.criterion](\n",
            "KeyError: 'enteropy'\n",
            "\n",
            "  warnings.warn(some_fits_failed_message, FitFailedWarning)\n",
            "/usr/local/lib/python3.7/dist-packages/sklearn/model_selection/_search.py:972: UserWarning: One or more of the test scores are non-finite: [       nan 0.70547619 0.70547619 0.70547619 0.70547619 0.70547619\n",
            " 0.70547619 0.70547619 0.70547619        nan 0.70547619 0.70547619\n",
            " 0.70547619 0.70547619 0.70547619 0.70547619 0.70547619 0.70547619\n",
            "        nan 0.70547619 0.70547619 0.70547619 0.70547619 0.70547619\n",
            " 0.70547619 0.70547619 0.70547619        nan 0.70547619 0.70547619\n",
            " 0.70547619 0.70547619 0.70547619 0.70547619 0.70547619 0.70547619\n",
            "        nan 0.78309524 0.78309524 0.78309524 0.78309524 0.78309524\n",
            " 0.78309524 0.78309524 0.78309524        nan 0.78309524 0.78309524\n",
            " 0.78309524 0.78309524 0.78309524 0.78309524 0.78309524 0.78309524\n",
            "        nan 0.78309524 0.78309524 0.78309524 0.78309524 0.78309524\n",
            " 0.78309524 0.78309524 0.78309524        nan 0.78809524 0.78809524\n",
            " 0.78809524 0.78809524 0.78809524 0.78809524 0.78809524 0.78809524\n",
            "        nan 0.7347619  0.74428571 0.73952381 0.73952381 0.73952381\n",
            " 0.74428571 0.7347619  0.73952381        nan 0.7347619  0.73952381\n",
            " 0.74428571 0.73952381 0.74428571 0.73952381 0.73952381 0.73952381\n",
            "        nan 0.73952381 0.74428571 0.74428571 0.73952381 0.73952381\n",
            " 0.74428571 0.7347619  0.73952381        nan 0.74928571 0.74452381\n",
            " 0.74452381 0.74452381 0.74928571 0.74928571 0.74928571 0.74928571\n",
            "        nan 0.74428571 0.75404762 0.74904762 0.74428571 0.74428571\n",
            " 0.74428571 0.74428571 0.73952381        nan 0.75428571 0.74904762\n",
            " 0.75904762 0.74928571 0.74928571 0.74428571 0.74928571 0.7347619\n",
            "        nan 0.74952381 0.74952381 0.7447619  0.74952381 0.74952381\n",
            " 0.74952381 0.7447619  0.73952381        nan 0.7397619  0.7397619\n",
            " 0.7397619  0.7397619  0.7397619  0.7397619  0.7397619  0.74452381\n",
            "        nan 0.74404762 0.75380952 0.75380952 0.75380952 0.74904762\n",
            " 0.74880952 0.74404762 0.73452381        nan 0.75880952 0.76833333\n",
            " 0.74428571 0.74928571 0.74428571 0.74880952 0.74904762 0.73928571\n",
            "        nan 0.74928571 0.74452381 0.75404762 0.74452381 0.75404762\n",
            " 0.75880952 0.75404762 0.73452381        nan 0.7347619  0.73952381\n",
            " 0.71571429 0.7252381  0.73       0.7347619  0.73       0.73\n",
            "        nan 0.75404762 0.74928571 0.74904762 0.75880952 0.75404762\n",
            " 0.74904762 0.74904762 0.73452381        nan 0.76428571 0.7547619\n",
            " 0.75928571 0.75928571 0.75904762 0.75380952 0.74928571 0.74428571\n",
            "        nan 0.74952381 0.75904762 0.74952381 0.75428571 0.74952381\n",
            " 0.75428571 0.75904762 0.73928571        nan 0.7347619  0.7252381\n",
            " 0.7347619  0.74904762 0.74428571 0.71095238 0.73952381 0.73\n",
            "        nan 0.7447619  0.75928571 0.76428571 0.7497619  0.76380952\n",
            " 0.75380952 0.74904762 0.73452381        nan 0.75452381 0.75428571\n",
            " 0.74904762 0.74952381 0.7397619  0.75857143 0.74904762 0.73928571\n",
            "        nan 0.7447619  0.7447619  0.73047619 0.74       0.74\n",
            " 0.75428571 0.74952381 0.73452381        nan 0.7252381  0.71571429\n",
            " 0.7252381  0.73       0.73952381 0.7252381  0.74904762 0.7252381\n",
            "        nan 0.7302381  0.74047619 0.75952381 0.7497619  0.74952381\n",
            " 0.73       0.7252381  0.71547619        nan 0.73952381 0.7252381\n",
            " 0.7447619  0.7447619  0.7302381  0.74904762 0.73952381 0.7252381\n",
            "        nan 0.72571429 0.72095238 0.72095238 0.72571429 0.73047619\n",
            " 0.7447619  0.7447619  0.725             nan 0.73       0.71095238\n",
            " 0.71095238 0.70142857 0.73       0.73       0.72047619 0.73\n",
            "        nan 0.73547619 0.745      0.7547619  0.7497619  0.75428571\n",
            " 0.74428571 0.7347619  0.7202381         nan 0.72952381 0.725\n",
            " 0.72952381 0.715      0.70571429 0.73404762 0.71452381 0.715\n",
            "        nan 0.70595238 0.70547619 0.7102381  0.7202381  0.71547619\n",
            " 0.7197619  0.73928571 0.71              nan 0.715      0.69119048\n",
            " 0.7197619  0.69119048 0.69119048 0.7102381  0.68642857 0.70071429\n",
            "        nan        nan        nan        nan        nan        nan\n",
            "        nan        nan        nan        nan        nan        nan\n",
            "        nan        nan        nan        nan        nan        nan\n",
            "        nan        nan        nan        nan        nan        nan\n",
            "        nan        nan        nan        nan        nan        nan\n",
            "        nan        nan        nan        nan        nan        nan\n",
            "        nan        nan        nan        nan        nan        nan\n",
            "        nan        nan        nan        nan        nan        nan\n",
            "        nan        nan        nan        nan        nan        nan\n",
            "        nan        nan        nan        nan        nan        nan\n",
            "        nan        nan        nan        nan        nan        nan\n",
            "        nan        nan        nan        nan        nan        nan\n",
            "        nan        nan        nan        nan        nan        nan\n",
            "        nan        nan        nan        nan        nan        nan\n",
            "        nan        nan        nan        nan        nan        nan\n",
            "        nan        nan        nan        nan        nan        nan\n",
            "        nan        nan        nan        nan        nan        nan\n",
            "        nan        nan        nan        nan        nan        nan\n",
            "        nan        nan        nan        nan        nan        nan\n",
            "        nan        nan        nan        nan        nan        nan\n",
            "        nan        nan        nan        nan        nan        nan\n",
            "        nan        nan        nan        nan        nan        nan\n",
            "        nan        nan        nan        nan        nan        nan\n",
            "        nan        nan        nan        nan        nan        nan\n",
            "        nan        nan        nan        nan        nan        nan\n",
            "        nan        nan        nan        nan        nan        nan\n",
            "        nan        nan        nan        nan        nan        nan\n",
            "        nan        nan        nan        nan        nan        nan\n",
            "        nan        nan        nan        nan        nan        nan\n",
            "        nan        nan        nan        nan        nan        nan\n",
            "        nan        nan        nan        nan        nan        nan\n",
            "        nan        nan        nan        nan        nan        nan\n",
            "        nan        nan        nan        nan        nan        nan\n",
            "        nan        nan        nan        nan        nan        nan\n",
            "        nan        nan        nan        nan        nan        nan\n",
            "        nan        nan        nan        nan        nan        nan\n",
            "        nan        nan        nan        nan        nan        nan\n",
            "        nan        nan        nan        nan        nan        nan\n",
            "        nan        nan        nan        nan        nan        nan\n",
            "        nan        nan        nan        nan        nan        nan\n",
            "        nan        nan        nan        nan        nan        nan\n",
            "        nan        nan        nan        nan        nan        nan\n",
            "        nan        nan        nan        nan        nan        nan\n",
            "        nan        nan        nan        nan        nan        nan\n",
            "        nan        nan        nan        nan        nan        nan\n",
            "        nan        nan        nan        nan        nan        nan\n",
            "        nan        nan        nan        nan        nan        nan\n",
            "        nan        nan        nan        nan        nan        nan\n",
            "        nan        nan        nan        nan        nan        nan\n",
            "        nan        nan        nan        nan        nan        nan\n",
            "        nan        nan        nan        nan        nan        nan\n",
            "        nan        nan        nan        nan        nan        nan\n",
            "        nan        nan        nan        nan        nan        nan\n",
            "        nan        nan        nan        nan        nan        nan]\n",
            "  category=UserWarning,\n"
          ]
        },
        {
          "output_type": "execute_result",
          "data": {
            "text/plain": [
              "GridSearchCV(cv=10, estimator=DecisionTreeClassifier(), n_jobs=-1,\n",
              "             param_grid={'criterion': ['gini', 'enteropy'],\n",
              "                         'max_depth': range(1, 10),\n",
              "                         'min_samples_leaf': range(1, 5),\n",
              "                         'min_samples_split': range(1, 10)},\n",
              "             verbose=1)"
            ]
          },
          "metadata": {},
          "execution_count": 55
        }
      ],
      "source": [
        "grid.fit(X_train, y_train)"
      ]
    },
    {
      "cell_type": "code",
      "execution_count": null,
      "metadata": {
        "colab": {
          "base_uri": "https://localhost:8080/"
        },
        "id": "DSG1mPurnUpS",
        "outputId": "7dc3ee9b-b7e7-475a-e8e1-9a35eb2b84fe"
      },
      "outputs": [
        {
          "output_type": "execute_result",
          "data": {
            "text/plain": [
              "{'criterion': 'gini',\n",
              " 'max_depth': 2,\n",
              " 'min_samples_leaf': 4,\n",
              " 'min_samples_split': 2}"
            ]
          },
          "metadata": {},
          "execution_count": 56
        }
      ],
      "source": [
        "grid.best_params_"
      ]
    },
    {
      "cell_type": "code",
      "execution_count": null,
      "metadata": {
        "id": "fmpkYAdPmuKy"
      },
      "outputs": [],
      "source": [
        "y_pred_tree2=grid.predict(X_test)"
      ]
    },
    {
      "cell_type": "code",
      "execution_count": null,
      "metadata": {
        "colab": {
          "base_uri": "https://localhost:8080/"
        },
        "id": "7MNWC7ECm11q",
        "outputId": "3e9afb57-cdd2-4b64-86b6-c7e520856467"
      },
      "outputs": [
        {
          "output_type": "stream",
          "name": "stdout",
          "text": [
            "method: Decision Tree Classifier after tuning the hyperparameters; metric: accuracy_score; 0.6857142857142857\n"
          ]
        }
      ],
      "source": [
        "print(f\"method: Decision Tree Classifier after tuning the hyperparameters; metric: accuracy_score; {accuracy_score(y_test, y_pred_tree2)}\")"
      ]
    },
    {
      "cell_type": "code",
      "execution_count": null,
      "metadata": {
        "colab": {
          "base_uri": "https://localhost:8080/"
        },
        "id": "YPulukmonmFK",
        "outputId": "0cf1cd41-56fe-4d9e-8b71-7a20abedc813"
      },
      "outputs": [
        {
          "output_type": "execute_result",
          "data": {
            "text/plain": [
              "Text(0.5, 15.0, 'Predicted label')"
            ]
          },
          "metadata": {},
          "execution_count": 59
        },
        {
          "output_type": "display_data",
          "data": {
            "image/png": "[encoded data removed]",
            "text/plain": [
              "<Figure size 432x288 with 1 Axes>"
            ]
          },
          "metadata": {
            "needs_background": "light"
          }
        }
      ],
      "source": [
        "cfm = confusion_matrix(y_test, y_pred_tree2)\n",
        "sns.heatmap(cfm, annot = True,  linewidths=.5, cbar =None)\n",
        "plt.title('Decision Tree Classifier after tuning the hyperparameters')\n",
        "plt.ylabel('True label')\n",
        "plt.xlabel('Predicted label')"
      ]
    },
    {
      "cell_type": "markdown",
      "source": [
        "## KNeighbors Classifier"
      ],
      "metadata": {
        "id": "gHQAlQ3xGARm"
      }
    },
    {
      "cell_type": "code",
      "source": [
        "from sklearn.neighbors import KNeighborsClassifier\n",
        "knn = KNeighborsClassifier(n_neighbors=3)\n",
        "knn.fit(X_train, y_train)"
      ],
      "metadata": {
        "colab": {
          "base_uri": "https://localhost:8080/"
        },
        "id": "p_dPiSwJF_O_",
        "outputId": "a91ed775-a386-4ff4-d80b-0ad496897c67"
      },
      "execution_count": null,
      "outputs": [
        {
          "output_type": "execute_result",
          "data": {
            "text/plain": [
              "KNeighborsClassifier(n_neighbors=3)"
            ]
          },
          "metadata": {},
          "execution_count": 66
        }
      ]
    },
    {
      "cell_type": "code",
      "source": [
        "y_pred_knn=knn.predict(X_test)"
      ],
      "metadata": {
        "id": "IMyhhX6tGaCE"
      },
      "execution_count": null,
      "outputs": []
    },
    {
      "cell_type": "code",
      "source": [
        "print(f\"method: knn Classifier after tuning the hyperparameters; metric: accuracy_score; {accuracy_score(y_test, y_pred_knn)}\")"
      ],
      "metadata": {
        "colab": {
          "base_uri": "https://localhost:8080/"
        },
        "id": "_5hbgGTWGlKb",
        "outputId": "6bf12bd7-03fe-4b8e-c22e-f52514f56f31"
      },
      "execution_count": null,
      "outputs": [
        {
          "output_type": "stream",
          "name": "stdout",
          "text": [
            "method: Decision Tree Classifier after tuning the hyperparameters; metric: accuracy_score; 0.6857142857142857\n"
          ]
        }
      ]
    },
    {
      "cell_type": "code",
      "source": [
        "cfm = confusion_matrix(y_test, y_pred_knn)\n",
        "sns.heatmap(cfm, annot = True,  linewidths=.5, cbar =None)\n",
        "plt.title('KNeighbors Classifier')\n",
        "plt.ylabel('True label')\n",
        "plt.xlabel('Predicted label')"
      ],
      "metadata": {
        "colab": {
          "base_uri": "https://localhost:8080/",
          "height": 312
        },
        "id": "Ox3nlYUDGs2r",
        "outputId": "53f97ab5-9657-42d0-b568-5beb416e33c9"
      },
      "execution_count": null,
      "outputs": [
        {
          "output_type": "execute_result",
          "data": {
            "text/plain": [
              "Text(0.5, 15.0, 'Predicted label')"
            ]
          },
          "metadata": {},
          "execution_count": 69
        },
        {
          "output_type": "display_data",
          "data": {
            "image/png": "[encoded data removed]",
            "text/plain": [
              "<Figure size 432x288 with 1 Axes>"
            ]
          },
          "metadata": {
            "needs_background": "light"
          }
        }
      ]
    },
    {
      "cell_type": "markdown",
      "source": [
        "## KNeighbors Classifier after tuning the hyperparameters\n",
        "\n"
      ],
      "metadata": {
        "id": "EYxZ89l5Gz5O"
      }
    },
    {
      "cell_type": "code",
      "source": [
        "# check all values of K between 1 and 20\n",
        "error_rate = []\n",
        "scores = []\n",
        "for i in range(1,20):\n",
        "    knn = KNeighborsClassifier(n_neighbors=i)\n",
        "    knn.fit(X_train,y_train)\n",
        "    pred_i = knn.predict(X_test)\n",
        "    score=accuracy_score(y_test,pred_i)\n",
        "    scores.append(score)\n",
        "    error_rate.append(np.mean(pred_i != y_test))"
      ],
      "metadata": {
        "id": "VhRseMIVGzfK"
      },
      "execution_count": null,
      "outputs": []
    },
    {
      "cell_type": "code",
      "source": [
        "plt.style.use('seaborn-whitegrid')\n",
        "plt.figure(figsize=(10,6))\n",
        "plt.plot(range(1,20),error_rate,color='blue', linestyle='dashed', marker='o', markerfacecolor='red', markersize=10)\n",
        "plt.title('Error Rate vs. K Value')\n",
        "plt.xlabel('K')\n",
        "plt.ylabel('Error Rate')"
      ],
      "metadata": {
        "colab": {
          "base_uri": "https://localhost:8080/",
          "height": 417
        },
        "id": "gbJN2jmnHG1T",
        "outputId": "29c0a966-e790-4928-f595-cd11029d969f"
      },
      "execution_count": null,
      "outputs": [
        {
          "output_type": "execute_result",
          "data": {
            "text/plain": [
              "Text(0, 0.5, 'Error Rate')"
            ]
          },
          "metadata": {},
          "execution_count": 71
        },
        {
          "output_type": "display_data",
          "data": {
            "image/png": "[encoded data removed]",
            "text/plain": [
              "<Figure size 720x432 with 1 Axes>"
            ]
          },
          "metadata": {}
        }
      ]
    },
    {
      "cell_type": "code",
      "source": [
        "knn = KNeighborsClassifier(n_neighbors=7)\n",
        "knn.fit(X_train, y_train)\n",
        "y_pred_knn=knn.predict(X_test)"
      ],
      "metadata": {
        "id": "9fZloJ6dHrn6"
      },
      "execution_count": null,
      "outputs": []
    },
    {
      "cell_type": "code",
      "source": [
        "print(f\"method: knn Classifier after tuning the hyperparameters; metric: accuracy_score; {accuracy_score(y_test, y_pred_knn)}\")"
      ],
      "metadata": {
        "colab": {
          "base_uri": "https://localhost:8080/"
        },
        "id": "wN-ZjYAbH8iB",
        "outputId": "080f40e6-aab6-444f-e02b-3f255297d465"
      },
      "execution_count": null,
      "outputs": [
        {
          "output_type": "stream",
          "name": "stdout",
          "text": [
            "method: knn Classifier after tuning the hyperparameters; metric: accuracy_score; 0.7428571428571429\n"
          ]
        }
      ]
    },
    {
      "cell_type": "code",
      "source": [
        "cfm = confusion_matrix(y_test, y_pred_knn)\n",
        "sns.heatmap(cfm, annot = True,  linewidths=.5, cbar =None)\n",
        "plt.title('KNeighbors Classifier after tuning the hyperparameters')\n",
        "plt.ylabel('True label')\n",
        "plt.xlabel('Predicted label')"
      ],
      "metadata": {
        "colab": {
          "base_uri": "https://localhost:8080/",
          "height": 308
        },
        "id": "IP8w3XB6H_Kh",
        "outputId": "e16bab13-e8d9-4cb1-95a1-95a0164a7ff5"
      },
      "execution_count": null,
      "outputs": [
        {
          "output_type": "execute_result",
          "data": {
            "text/plain": [
              "Text(0.5, 18.5, 'Predicted label')"
            ]
          },
          "metadata": {},
          "execution_count": 74
        },
        {
          "output_type": "display_data",
          "data": {
            "image/png": "[encoded data removed]",
            "text/plain": [
              "<Figure size 432x288 with 1 Axes>"
            ]
          },
          "metadata": {}
        }
      ]
    },
    {
      "cell_type": "markdown",
      "metadata": {
        "id": "bUcaBe4iFk18"
      },
      "source": [
        "## Clustering Part"
      ]
    },
    {
      "cell_type": "code",
      "execution_count": null,
      "metadata": {
        "colab": {
          "base_uri": "https://localhost:8080/"
        },
        "id": "NoAsxJfQnvYK",
        "outputId": "a6cdb0c4-f9cd-46f3-9bb5-8302b473c14f"
      },
      "outputs": [
        {
          "output_type": "stream",
          "name": "stdout",
          "text": [
            "[[0.44285714 0.89732143]\n",
            " [0.39773756 0.33257919]]\n"
          ]
        }
      ],
      "source": [
        "XX = df[['tumor-size','breast-quad']]\n",
        "kmeans = KMeans(n_clusters=2).fit(XX)\n",
        "centroids = kmeans.cluster_centers_\n",
        "print(centroids)"
      ]
    },
    {
      "cell_type": "code",
      "execution_count": null,
      "metadata": {
        "colab": {
          "base_uri": "https://localhost:8080/",
          "height": 438
        },
        "id": "HSRn9D1ZHIEH",
        "outputId": "638bafd6-878a-4625-ace8-eb382fd51c2a"
      },
      "outputs": [
        {
          "output_type": "display_data",
          "data": {
            "image/png": "[encoded data removed]",
            "text/plain": [
              "<Figure size 720x504 with 1 Axes>"
            ]
          },
          "metadata": {}
        }
      ],
      "source": [
        "pre_kmeans = kmeans.predict(XX)\n",
        "fig, ax = plt.subplots(figsize=(10,7))\n",
        "plt.scatter(XX['tumor-size'], XX['breast-quad'], c= pre_kmeans, s=50, alpha=0.5, cmap='viridis')\n",
        "plt.scatter(centroids[:, 0], centroids[:, 1], c='red', s=50)\n",
        "ax.set_xlabel('tumor-size') \n",
        "ax.set_ylabel('breast-quad')\n",
        "plt.show()"
      ]
    },
    {
      "cell_type": "markdown",
      "metadata": {
        "id": "IEA2pqmFJ2he"
      },
      "source": [
        "## Result Evaluation\n",
        "Elbow Method"
      ]
    },
    {
      "cell_type": "code",
      "execution_count": null,
      "metadata": {
        "colab": {
          "base_uri": "https://localhost:8080/",
          "height": 513
        },
        "id": "uVjFt2JzHila",
        "outputId": "5b64be9b-a62c-4fb7-9791-38b3e9be54c8"
      },
      "outputs": [
        {
          "output_type": "display_data",
          "data": {
            "image/png": "[encoded data removed]",
            "text/plain": [
              "<Figure size 720x576 with 1 Axes>"
            ]
          },
          "metadata": {
            "needs_background": "light"
          }
        }
      ],
      "source": [
        "distortions = []\n",
        "K = range(1,10)\n",
        "for k in K:\n",
        "    kmeanModel = KMeans(n_clusters=k)\n",
        "    kmeanModel.fit(XX)\n",
        "    distortions.append(kmeanModel.inertia_)\n",
        "\n",
        "plt.figure(figsize=(10,8))\n",
        "plt.plot(K, distortions, 'bo--')\n",
        "plt.title('KMeans Elbow')\n",
        "plt.xlabel('k values')\n",
        "plt.ylabel('Sum of the squared deviations')\n",
        "plt.show()"
      ]
    },
    {
      "cell_type": "markdown",
      "metadata": {
        "id": "pWEvuU37KOWZ"
      },
      "source": [
        "##Silhouette Method"
      ]
    },
    {
      "cell_type": "code",
      "execution_count": null,
      "metadata": {
        "colab": {
          "base_uri": "https://localhost:8080/"
        },
        "id": "FE4C9FEEKEeO",
        "outputId": "90f253aa-ef28-4b13-8c68-4077b8cf8905"
      },
      "outputs": [
        {
          "output_type": "execute_result",
          "data": {
            "text/plain": [
              "0.4734076188042713"
            ]
          },
          "metadata": {},
          "execution_count": 63
        }
      ],
      "source": [
        "# The silhouette for K=2\n",
        "from sklearn.metrics import silhouette_samples, silhouette_score\n",
        "silhouette_score(X=XX,labels=kmeans.labels_,metric='euclidean')\n"
      ]
    },
    {
      "cell_type": "code",
      "execution_count": null,
      "metadata": {
        "colab": {
          "base_uri": "https://localhost:8080/"
        },
        "id": "wCmBtq02KXy-",
        "outputId": "da8bef06-d756-43b6-9df8-e3f90c3eed1d"
      },
      "outputs": [
        {
          "output_type": "execute_result",
          "data": {
            "text/plain": [
              "0.4005632740559488"
            ]
          },
          "metadata": {},
          "execution_count": 64
        }
      ],
      "source": [
        "# The silhouette for K=3\n",
        "kmeans2 = KMeans(n_clusters=3).fit(XX)\n",
        "centroids2 = kmeans2.cluster_centers_\n",
        "silhouette_score(X=XX,labels=kmeans2.labels_,metric='euclidean')"
      ]
    },
    {
      "cell_type": "code",
      "execution_count": null,
      "metadata": {
        "colab": {
          "base_uri": "https://localhost:8080/",
          "height": 442
        },
        "id": "HePyDzgILojj",
        "outputId": "79d2f932-e928-422b-fd90-2510e7a77e71"
      },
      "outputs": [
        {
          "output_type": "display_data",
          "data": {
            "image/png": "[encoded data removed]",
            "text/plain": [
              "<Figure size 720x504 with 1 Axes>"
            ]
          },
          "metadata": {
            "needs_background": "light"
          }
        }
      ],
      "source": [
        "pre_kmeans2 = kmeans2.predict(XX)\n",
        "fig, ax = plt.subplots(figsize=(10,7))\n",
        "plt.scatter(XX['tumor-size'], XX['breast-quad'], c= pre_kmeans2, s=50, alpha=0.5, cmap='viridis')\n",
        "plt.scatter(centroids2[:, 0], centroids2[:, 1], c='red', s=50)\n",
        "ax.set_xlabel('tumor-size') \n",
        "ax.set_ylabel('breast-quad')\n",
        "plt.show()"
      ]
    },
    {
      "cell_type": "code",
      "source": [
        "pip install fpgrowth_py"
      ],
      "metadata": {
        "colab": {
          "base_uri": "https://localhost:8080/"
        },
        "id": "7jhGX87WeTJl",
        "outputId": "81971579-ebb0-4d5f-8be6-69b4098d358b"
      },
      "execution_count": 24,
      "outputs": [
        {
          "output_type": "stream",
          "name": "stdout",
          "text": [
            "Collecting fpgrowth_py\n",
            "  Downloading fpgrowth_py-1.0.0-py3-none-any.whl (5.6 kB)\n",
            "Installing collected packages: fpgrowth-py\n",
            "Successfully installed fpgrowth-py-1.0.0\n"
          ]
        }
      ]
    },
    {
      "cell_type": "code",
      "source": [
        "itemSetList = np.array(df)"
      ],
      "metadata": {
        "id": "L3WVdyVwefyg"
      },
      "execution_count": 26,
      "outputs": []
    },
    {
      "cell_type": "code",
      "source": [
        "from fpgrowth_py import fpgrowth\n",
        "freqItemSet, rules = fpgrowth(itemSetList , minSupRatio=0.5, minConf=0.5)\n",
        "print(freqItemSet)"
      ],
      "metadata": {
        "colab": {
          "base_uri": "https://localhost:8080/"
        },
        "id": "V6apBYTKeF4D",
        "outputId": "303f1e47-4695-4f89-ca46-be41be33436d"
      },
      "execution_count": 27,
      "outputs": [
        {
          "output_type": "stream",
          "name": "stdout",
          "text": [
            "[{0.4}, {0.4, 0.5}, {0.4, 0.5, 1.0}, {0.4, 0.5, 1.0}, {0.4, 0.5, 1.0, 0.0}, {0.4, 0.5, 1.0, 0.0}, {0.4, 0.5, 1.0, 0.0}, {0.4, 0.5, 1.0, 0.0}, {0.4, 0.5, 1.0, 0.0}, {0.4, 0.5, 0.0}, {0.4, 0.5, 0.0}, {0.4, 0.5, 0.0}, {0.4, 0.5, 0.0}, {0.4, 1.0}, {0.4, 1.0}, {0.4, 1.0}, {0.4, 1.0, 0.0}, {0.4, 1.0, 0.0}, {0.4, 1.0, 0.0}, {0.4, 1.0, 0.0}, {0.4, 1.0, 0.0}, {0.4, 1.0, 0.0}, {0.4, 1.0, 0.0}, {0.4, 1.0, 0.0}, {0.4, 0.0}, {0.4, 0.0}, {0.4, 0.0}, {0.4, 0.0}, {0.5}, {0.5, 1.0}, {0.5, 1.0}, {0.5, 1.0}, {0.5, 1.0, 0.0}, {0.5, 1.0, 0.0}, {0.5, 1.0, 0.0}, {0.5, 1.0, 0.0}, {0.5, 1.0, 0.0}, {0.5, 1.0, 0.0}, {0.5, 1.0, 0.0}, {0.5, 1.0, 0.0}, {0.5, 0.0}, {0.5, 0.0}, {0.5, 0.0}, {0.5, 0.0}, {0.5, 0.0}, {1.0}, {1.0}, {1.0}, {0.0, 1.0}, {0.0, 1.0}, {0.0, 1.0}, {0.0, 1.0}, {0.0, 1.0}, {0.0, 1.0}, {0.0, 1.0}, {0.0, 1.0}, {0.0, 1.0}, {0.0, 1.0}, {0.0}, {0.0}, {0.0}, {0.0}, {0.0}]\n"
          ]
        }
      ]
    },
    {
      "cell_type": "code",
      "source": [
        "print(rules)"
      ],
      "metadata": {
        "colab": {
          "base_uri": "https://localhost:8080/"
        },
        "id": "E1l0RJ7yePn2",
        "outputId": "facd928f-c50d-42b0-fc78-393d02e14e30"
      },
      "execution_count": 28,
      "outputs": [
        {
          "output_type": "stream",
          "name": "stdout",
          "text": [
            "[[{0.4}, {0.5}, 0.7479674796747967], [{0.4}, {0.5, 1.0}, 0.7073170731707317], [{0.4, 0.5}, {1.0}, 0.9456521739130435], [{0.4, 1.0}, {0.5}, 0.75], [{0.5, 1.0}, {0.4}, 0.5087719298245614], [{0.4}, {0.5, 1.0}, 0.7073170731707317], [{0.4, 0.5}, {1.0}, 0.9456521739130435], [{0.4, 1.0}, {0.5}, 0.75], [{0.5, 1.0}, {0.4}, 0.5087719298245614], [{0.4}, {0.5, 1.0, 0.0}, 0.6829268292682927], [{0.4, 0.5}, {0.0, 1.0}, 0.9130434782608695], [{0.4, 1.0}, {0.5, 0.0}, 0.7241379310344828], [{0.4, 0.0}, {0.5, 1.0}, 0.717948717948718], [{0.4, 0.5, 1.0}, {0.0}, 0.9655172413793104], [{0.4, 0.5, 0.0}, {1.0}, 0.9438202247191011], [{0.4, 1.0, 0.0}, {0.5}, 0.7636363636363637], [{0.4}, {0.5, 1.0, 0.0}, 0.6829268292682927], [{0.4, 0.5}, {0.0, 1.0}, 0.9130434782608695], [{0.4, 1.0}, {0.5, 0.0}, 0.7241379310344828], [{0.4, 0.0}, {0.5, 1.0}, 0.717948717948718], [{0.4, 0.5, 1.0}, {0.0}, 0.9655172413793104], [{0.4, 0.5, 0.0}, {1.0}, 0.9438202247191011], [{0.4, 1.0, 0.0}, {0.5}, 0.7636363636363637], [{0.4}, {0.5, 1.0, 0.0}, 0.6829268292682927], [{0.4, 0.5}, {0.0, 1.0}, 0.9130434782608695], [{0.4, 1.0}, {0.5, 0.0}, 0.7241379310344828], [{0.4, 0.0}, {0.5, 1.0}, 0.717948717948718], [{0.4, 0.5, 1.0}, {0.0}, 0.9655172413793104], [{0.4, 0.5, 0.0}, {1.0}, 0.9438202247191011], [{0.4, 1.0, 0.0}, {0.5}, 0.7636363636363637], [{0.4}, {0.5, 1.0, 0.0}, 0.6829268292682927], [{0.4, 0.5}, {0.0, 1.0}, 0.9130434782608695], [{0.4, 1.0}, {0.5, 0.0}, 0.7241379310344828], [{0.4, 0.0}, {0.5, 1.0}, 0.717948717948718], [{0.4, 0.5, 1.0}, {0.0}, 0.9655172413793104], [{0.4, 0.5, 0.0}, {1.0}, 0.9438202247191011], [{0.4, 1.0, 0.0}, {0.5}, 0.7636363636363637], [{0.4}, {0.5, 1.0, 0.0}, 0.6829268292682927], [{0.4, 0.5}, {0.0, 1.0}, 0.9130434782608695], [{0.4, 1.0}, {0.5, 0.0}, 0.7241379310344828], [{0.4, 0.0}, {0.5, 1.0}, 0.717948717948718], [{0.4, 0.5, 1.0}, {0.0}, 0.9655172413793104], [{0.4, 0.5, 0.0}, {1.0}, 0.9438202247191011], [{0.4, 1.0, 0.0}, {0.5}, 0.7636363636363637], [{0.4}, {0.5, 0.0}, 0.7235772357723578], [{0.4, 0.5}, {0.0}, 0.967391304347826], [{0.4, 0.0}, {0.5}, 0.7606837606837606], [{0.4}, {0.5, 0.0}, 0.7235772357723578], [{0.4, 0.5}, {0.0}, 0.967391304347826], [{0.4, 0.0}, {0.5}, 0.7606837606837606], [{0.4}, {0.5, 0.0}, 0.7235772357723578], [{0.4, 0.5}, {0.0}, 0.967391304347826], [{0.4, 0.0}, {0.5}, 0.7606837606837606], [{0.4}, {0.5, 0.0}, 0.7235772357723578], [{0.4, 0.5}, {0.0}, 0.967391304347826], [{0.4, 0.0}, {0.5}, 0.7606837606837606], [{0.4}, {1.0}, 0.943089430894309], [{1.0}, {0.4}, 0.5065502183406113], [{0.4}, {1.0}, 0.943089430894309], [{1.0}, {0.4}, 0.5065502183406113], [{0.4}, {1.0}, 0.943089430894309], [{1.0}, {0.4}, 0.5065502183406113], [{0.4}, {0.0, 1.0}, 0.8943089430894309], [{0.4, 1.0}, {0.0}, 0.9482758620689655], [{0.4, 0.0}, {1.0}, 0.9401709401709402], [{0.4}, {0.0, 1.0}, 0.8943089430894309], [{0.4, 1.0}, {0.0}, 0.9482758620689655], [{0.4, 0.0}, {1.0}, 0.9401709401709402], [{0.4}, {0.0, 1.0}, 0.8943089430894309], [{0.4, 1.0}, {0.0}, 0.9482758620689655], [{0.4, 0.0}, {1.0}, 0.9401709401709402], [{0.4}, {0.0, 1.0}, 0.8943089430894309], [{0.4, 1.0}, {0.0}, 0.9482758620689655], [{0.4, 0.0}, {1.0}, 0.9401709401709402], [{0.4}, {0.0, 1.0}, 0.8943089430894309], [{0.4, 1.0}, {0.0}, 0.9482758620689655], [{0.4, 0.0}, {1.0}, 0.9401709401709402], [{0.4}, {0.0, 1.0}, 0.8943089430894309], [{0.4, 1.0}, {0.0}, 0.9482758620689655], [{0.4, 0.0}, {1.0}, 0.9401709401709402], [{0.4}, {0.0, 1.0}, 0.8943089430894309], [{0.4, 1.0}, {0.0}, 0.9482758620689655], [{0.4, 0.0}, {1.0}, 0.9401709401709402], [{0.4}, {0.0, 1.0}, 0.8943089430894309], [{0.4, 1.0}, {0.0}, 0.9482758620689655], [{0.4, 0.0}, {1.0}, 0.9401709401709402], [{0.4}, {0.0}, 0.9512195121951219], [{0.4}, {0.0}, 0.9512195121951219], [{0.4}, {0.0}, 0.9512195121951219], [{0.4}, {0.0}, 0.9512195121951219], [{0.5}, {1.0}, 0.8341463414634146], [{1.0}, {0.5}, 0.7467248908296943], [{0.5}, {1.0}, 0.8341463414634146], [{1.0}, {0.5}, 0.7467248908296943], [{0.5}, {1.0}, 0.8341463414634146], [{1.0}, {0.5}, 0.7467248908296943], [{0.5}, {0.0, 1.0}, 0.8195121951219512], [{1.0}, {0.5, 0.0}, 0.7336244541484717], [{0.0}, {0.5, 1.0}, 0.6222222222222222], [{0.5, 1.0}, {0.0}, 0.9824561403508771], [{0.5, 0.0}, {1.0}, 0.8316831683168316], [{0.0, 1.0}, {0.5}, 0.7567567567567568], [{0.5}, {0.0, 1.0}, 0.8195121951219512], [{1.0}, {0.5, 0.0}, 0.7336244541484717], [{0.0}, {0.5, 1.0}, 0.6222222222222222], [{0.5, 1.0}, {0.0}, 0.9824561403508771], [{0.5, 0.0}, {1.0}, 0.8316831683168316], [{0.0, 1.0}, {0.5}, 0.7567567567567568], [{0.5}, {0.0, 1.0}, 0.8195121951219512], [{1.0}, {0.5, 0.0}, 0.7336244541484717], [{0.0}, {0.5, 1.0}, 0.6222222222222222], [{0.5, 1.0}, {0.0}, 0.9824561403508771], [{0.5, 0.0}, {1.0}, 0.8316831683168316], [{0.0, 1.0}, {0.5}, 0.7567567567567568], [{0.5}, {0.0, 1.0}, 0.8195121951219512], [{1.0}, {0.5, 0.0}, 0.7336244541484717], [{0.0}, {0.5, 1.0}, 0.6222222222222222], [{0.5, 1.0}, {0.0}, 0.9824561403508771], [{0.5, 0.0}, {1.0}, 0.8316831683168316], [{0.0, 1.0}, {0.5}, 0.7567567567567568], [{0.5}, {0.0, 1.0}, 0.8195121951219512], [{1.0}, {0.5, 0.0}, 0.7336244541484717], [{0.0}, {0.5, 1.0}, 0.6222222222222222], [{0.5, 1.0}, {0.0}, 0.9824561403508771], [{0.5, 0.0}, {1.0}, 0.8316831683168316], [{0.0, 1.0}, {0.5}, 0.7567567567567568], [{0.5}, {0.0, 1.0}, 0.8195121951219512], [{1.0}, {0.5, 0.0}, 0.7336244541484717], [{0.0}, {0.5, 1.0}, 0.6222222222222222], [{0.5, 1.0}, {0.0}, 0.9824561403508771], [{0.5, 0.0}, {1.0}, 0.8316831683168316], [{0.0, 1.0}, {0.5}, 0.7567567567567568], [{0.5}, {0.0, 1.0}, 0.8195121951219512], [{1.0}, {0.5, 0.0}, 0.7336244541484717], [{0.0}, {0.5, 1.0}, 0.6222222222222222], [{0.5, 1.0}, {0.0}, 0.9824561403508771], [{0.5, 0.0}, {1.0}, 0.8316831683168316], [{0.0, 1.0}, {0.5}, 0.7567567567567568], [{0.5}, {0.0, 1.0}, 0.8195121951219512], [{1.0}, {0.5, 0.0}, 0.7336244541484717], [{0.0}, {0.5, 1.0}, 0.6222222222222222], [{0.5, 1.0}, {0.0}, 0.9824561403508771], [{0.5, 0.0}, {1.0}, 0.8316831683168316], [{0.0, 1.0}, {0.5}, 0.7567567567567568], [{0.5}, {0.0}, 0.9853658536585366], [{0.0}, {0.5}, 0.7481481481481481], [{0.5}, {0.0}, 0.9853658536585366], [{0.0}, {0.5}, 0.7481481481481481], [{0.5}, {0.0}, 0.9853658536585366], [{0.0}, {0.5}, 0.7481481481481481], [{0.5}, {0.0}, 0.9853658536585366], [{0.0}, {0.5}, 0.7481481481481481], [{0.5}, {0.0}, 0.9853658536585366], [{0.0}, {0.5}, 0.7481481481481481], [{0.0}, {1.0}, 0.8222222222222222], [{1.0}, {0.0}, 0.9694323144104804], [{0.0}, {1.0}, 0.8222222222222222], [{1.0}, {0.0}, 0.9694323144104804], [{0.0}, {1.0}, 0.8222222222222222], [{1.0}, {0.0}, 0.9694323144104804], [{0.0}, {1.0}, 0.8222222222222222], [{1.0}, {0.0}, 0.9694323144104804], [{0.0}, {1.0}, 0.8222222222222222], [{1.0}, {0.0}, 0.9694323144104804], [{0.0}, {1.0}, 0.8222222222222222], [{1.0}, {0.0}, 0.9694323144104804], [{0.0}, {1.0}, 0.8222222222222222], [{1.0}, {0.0}, 0.9694323144104804], [{0.0}, {1.0}, 0.8222222222222222], [{1.0}, {0.0}, 0.9694323144104804], [{0.0}, {1.0}, 0.8222222222222222], [{1.0}, {0.0}, 0.9694323144104804], [{0.0}, {1.0}, 0.8222222222222222], [{1.0}, {0.0}, 0.9694323144104804]]\n"
          ]
        }
      ]
    }
  ],
  "metadata": {
    "colab": {
      "collapsed_sections": [],
      "name": "Damerji Mohammad-AYKN6P.ipynb",
      "provenance": []
    },
    "kernelspec": {
      "display_name": "Python 3",
      "name": "python3"
    },
    "language_info": {
      "name": "python"
    }
  },
  "nbformat": 4,
  "nbformat_minor": 0
}